{
 "cells": [
  {
   "cell_type": "code",
   "execution_count": 5,
   "metadata": {},
   "outputs": [],
   "source": [
    "import pandas as pd\n",
    "import numpy as np\n",
    "from pycaret.clustering import *"
   ]
  },
  {
   "cell_type": "code",
   "execution_count": 6,
   "metadata": {},
   "outputs": [],
   "source": [
    "data=pd.read_csv(\"C:/Users/sanja/OneDrive/Desktop/CLass/seeds/non-verbal tourist data.csv\")"
   ]
  },
  {
   "cell_type": "markdown",
   "metadata": {},
   "source": [
    "### KMEANS"
   ]
  },
  {
   "cell_type": "code",
   "execution_count": 7,
   "metadata": {},
   "outputs": [
    {
     "data": {
      "text/html": [],
      "text/plain": [
       "<IPython.core.display.HTML object>"
      ]
     },
     "metadata": {},
     "output_type": "display_data"
    },
    {
     "data": {
      "text/html": [
       "<style type=\"text/css\">\n",
       "</style>\n",
       "<table id=\"T_41898\">\n",
       "  <thead>\n",
       "    <tr>\n",
       "      <th class=\"blank level0\" >&nbsp;</th>\n",
       "      <th id=\"T_41898_level0_col0\" class=\"col_heading level0 col0\" >Silhouette</th>\n",
       "      <th id=\"T_41898_level0_col1\" class=\"col_heading level0 col1\" >Calinski-Harabasz</th>\n",
       "      <th id=\"T_41898_level0_col2\" class=\"col_heading level0 col2\" >Davies-Bouldin</th>\n",
       "      <th id=\"T_41898_level0_col3\" class=\"col_heading level0 col3\" >Homogeneity</th>\n",
       "      <th id=\"T_41898_level0_col4\" class=\"col_heading level0 col4\" >Rand Index</th>\n",
       "      <th id=\"T_41898_level0_col5\" class=\"col_heading level0 col5\" >Completeness</th>\n",
       "    </tr>\n",
       "  </thead>\n",
       "  <tbody>\n",
       "    <tr>\n",
       "      <th id=\"T_41898_level0_row0\" class=\"row_heading level0 row0\" >0</th>\n",
       "      <td id=\"T_41898_row0_col0\" class=\"data row0 col0\" >0.0680</td>\n",
       "      <td id=\"T_41898_row0_col1\" class=\"data row0 col1\" >6.3599</td>\n",
       "      <td id=\"T_41898_row0_col2\" class=\"data row0 col2\" >2.3006</td>\n",
       "      <td id=\"T_41898_row0_col3\" class=\"data row0 col3\" >0</td>\n",
       "      <td id=\"T_41898_row0_col4\" class=\"data row0 col4\" >0</td>\n",
       "      <td id=\"T_41898_row0_col5\" class=\"data row0 col5\" >0</td>\n",
       "    </tr>\n",
       "  </tbody>\n",
       "</table>\n"
      ],
      "text/plain": [
       "<pandas.io.formats.style.Styler at 0x1d598769d90>"
      ]
     },
     "metadata": {},
     "output_type": "display_data"
    },
    {
     "data": {
      "text/html": [],
      "text/plain": [
       "<IPython.core.display.HTML object>"
      ]
     },
     "metadata": {},
     "output_type": "display_data"
    },
    {
     "data": {
      "text/html": [
       "<div>\n",
       "<style scoped>\n",
       "    .dataframe tbody tr th:only-of-type {\n",
       "        vertical-align: middle;\n",
       "    }\n",
       "\n",
       "    .dataframe tbody tr th {\n",
       "        vertical-align: top;\n",
       "    }\n",
       "\n",
       "    .dataframe thead th {\n",
       "        text-align: right;\n",
       "    }\n",
       "</style>\n",
       "<table border=\"1\" class=\"dataframe\">\n",
       "  <thead>\n",
       "    <tr style=\"text-align: right;\">\n",
       "      <th></th>\n",
       "      <th>sex</th>\n",
       "      <th>age</th>\n",
       "      <th>country</th>\n",
       "      <th>returning</th>\n",
       "      <th>GImg1</th>\n",
       "      <th>GImg2</th>\n",
       "      <th>GImg3</th>\n",
       "      <th>PImg1</th>\n",
       "      <th>PImg2</th>\n",
       "      <th>PImg3</th>\n",
       "      <th>...</th>\n",
       "      <th>Hostile - friendly</th>\n",
       "      <th>TAudio1</th>\n",
       "      <th>TAudio2</th>\n",
       "      <th>TAudio3</th>\n",
       "      <th>QAudio1</th>\n",
       "      <th>QAudio2</th>\n",
       "      <th>QAudio3</th>\n",
       "      <th>Proxemics</th>\n",
       "      <th>Type of Client</th>\n",
       "      <th>Cluster</th>\n",
       "    </tr>\n",
       "  </thead>\n",
       "  <tbody>\n",
       "    <tr>\n",
       "      <th>0</th>\n",
       "      <td>F</td>\n",
       "      <td>42</td>\n",
       "      <td>uruguay</td>\n",
       "      <td>no</td>\n",
       "      <td>likes</td>\n",
       "      <td>indiferent</td>\n",
       "      <td>indiferent</td>\n",
       "      <td>likes</td>\n",
       "      <td>likes</td>\n",
       "      <td>indiferent</td>\n",
       "      <td>...</td>\n",
       "      <td>3</td>\n",
       "      <td>C</td>\n",
       "      <td>dislikes</td>\n",
       "      <td>dislikes</td>\n",
       "      <td>indiferent</td>\n",
       "      <td>dislikes</td>\n",
       "      <td>dislikes</td>\n",
       "      <td>dislikes</td>\n",
       "      <td>0</td>\n",
       "      <td>Cluster 0</td>\n",
       "    </tr>\n",
       "    <tr>\n",
       "      <th>1</th>\n",
       "      <td>M</td>\n",
       "      <td>60</td>\n",
       "      <td>brasil</td>\n",
       "      <td>no</td>\n",
       "      <td>likes</td>\n",
       "      <td>indiferent</td>\n",
       "      <td>indiferent</td>\n",
       "      <td>likes</td>\n",
       "      <td>likes</td>\n",
       "      <td>likes</td>\n",
       "      <td>...</td>\n",
       "      <td>1</td>\n",
       "      <td>B</td>\n",
       "      <td>dislikes</td>\n",
       "      <td>dislikes</td>\n",
       "      <td>likes</td>\n",
       "      <td>likes</td>\n",
       "      <td>dislikes</td>\n",
       "      <td>dislikes</td>\n",
       "      <td>0</td>\n",
       "      <td>Cluster 3</td>\n",
       "    </tr>\n",
       "    <tr>\n",
       "      <th>2</th>\n",
       "      <td>F</td>\n",
       "      <td>25</td>\n",
       "      <td>england</td>\n",
       "      <td>no</td>\n",
       "      <td>indiferent</td>\n",
       "      <td>indiferent</td>\n",
       "      <td>indiferent</td>\n",
       "      <td>likes</td>\n",
       "      <td>likes</td>\n",
       "      <td>indiferent</td>\n",
       "      <td>...</td>\n",
       "      <td>5</td>\n",
       "      <td>C</td>\n",
       "      <td>dislikes</td>\n",
       "      <td>dislikes</td>\n",
       "      <td>likes</td>\n",
       "      <td>dislikes</td>\n",
       "      <td>dislikes</td>\n",
       "      <td>dislikes</td>\n",
       "      <td>0</td>\n",
       "      <td>Cluster 0</td>\n",
       "    </tr>\n",
       "    <tr>\n",
       "      <th>3</th>\n",
       "      <td>M</td>\n",
       "      <td>43</td>\n",
       "      <td>canada</td>\n",
       "      <td>no</td>\n",
       "      <td>likes</td>\n",
       "      <td>dislikes</td>\n",
       "      <td>dislikes</td>\n",
       "      <td>likes</td>\n",
       "      <td>likes</td>\n",
       "      <td>indiferent</td>\n",
       "      <td>...</td>\n",
       "      <td>1</td>\n",
       "      <td>C</td>\n",
       "      <td>dislikes</td>\n",
       "      <td>dislikes</td>\n",
       "      <td>likes</td>\n",
       "      <td>dislikes</td>\n",
       "      <td>indiferent</td>\n",
       "      <td>dislikes</td>\n",
       "      <td>0</td>\n",
       "      <td>Cluster 0</td>\n",
       "    </tr>\n",
       "    <tr>\n",
       "      <th>4</th>\n",
       "      <td>M</td>\n",
       "      <td>30</td>\n",
       "      <td>hungary</td>\n",
       "      <td>no</td>\n",
       "      <td>indiferent</td>\n",
       "      <td>indiferent</td>\n",
       "      <td>indiferent</td>\n",
       "      <td>likes</td>\n",
       "      <td>likes</td>\n",
       "      <td>indiferent</td>\n",
       "      <td>...</td>\n",
       "      <td>3</td>\n",
       "      <td>C</td>\n",
       "      <td>dislikes</td>\n",
       "      <td>dislikes</td>\n",
       "      <td>likes</td>\n",
       "      <td>indiferent</td>\n",
       "      <td>dislikes</td>\n",
       "      <td>dislikes</td>\n",
       "      <td>0</td>\n",
       "      <td>Cluster 0</td>\n",
       "    </tr>\n",
       "    <tr>\n",
       "      <th>...</th>\n",
       "      <td>...</td>\n",
       "      <td>...</td>\n",
       "      <td>...</td>\n",
       "      <td>...</td>\n",
       "      <td>...</td>\n",
       "      <td>...</td>\n",
       "      <td>...</td>\n",
       "      <td>...</td>\n",
       "      <td>...</td>\n",
       "      <td>...</td>\n",
       "      <td>...</td>\n",
       "      <td>...</td>\n",
       "      <td>...</td>\n",
       "      <td>...</td>\n",
       "      <td>...</td>\n",
       "      <td>...</td>\n",
       "      <td>...</td>\n",
       "      <td>...</td>\n",
       "      <td>...</td>\n",
       "      <td>...</td>\n",
       "      <td>...</td>\n",
       "    </tr>\n",
       "    <tr>\n",
       "      <th>68</th>\n",
       "      <td>F</td>\n",
       "      <td>36</td>\n",
       "      <td>england</td>\n",
       "      <td>no</td>\n",
       "      <td>indiferent</td>\n",
       "      <td>dislikes</td>\n",
       "      <td>dislikes</td>\n",
       "      <td>likes</td>\n",
       "      <td>likes</td>\n",
       "      <td>dislikes</td>\n",
       "      <td>...</td>\n",
       "      <td>4</td>\n",
       "      <td>C</td>\n",
       "      <td>dislikes</td>\n",
       "      <td>dislikes</td>\n",
       "      <td>likes</td>\n",
       "      <td>dislikes</td>\n",
       "      <td>dislikes</td>\n",
       "      <td>dislikes</td>\n",
       "      <td>4</td>\n",
       "      <td>Cluster 2</td>\n",
       "    </tr>\n",
       "    <tr>\n",
       "      <th>69</th>\n",
       "      <td>M</td>\n",
       "      <td>38</td>\n",
       "      <td>russia</td>\n",
       "      <td>no</td>\n",
       "      <td>dislikes</td>\n",
       "      <td>dislikes</td>\n",
       "      <td>dislikes</td>\n",
       "      <td>likes</td>\n",
       "      <td>likes</td>\n",
       "      <td>dislikes</td>\n",
       "      <td>...</td>\n",
       "      <td>5</td>\n",
       "      <td>C</td>\n",
       "      <td>dislikes</td>\n",
       "      <td>dislikes</td>\n",
       "      <td>dislikes</td>\n",
       "      <td>dislikes</td>\n",
       "      <td>dislikes</td>\n",
       "      <td>dislikes</td>\n",
       "      <td>5</td>\n",
       "      <td>Cluster 2</td>\n",
       "    </tr>\n",
       "    <tr>\n",
       "      <th>70</th>\n",
       "      <td>F</td>\n",
       "      <td>46</td>\n",
       "      <td>canada</td>\n",
       "      <td>no</td>\n",
       "      <td>dislikes</td>\n",
       "      <td>indiferent</td>\n",
       "      <td>indiferent</td>\n",
       "      <td>indiferent</td>\n",
       "      <td>likes</td>\n",
       "      <td>dislikes</td>\n",
       "      <td>...</td>\n",
       "      <td>2</td>\n",
       "      <td>A</td>\n",
       "      <td>dislikes</td>\n",
       "      <td>dislikes</td>\n",
       "      <td>indiferent</td>\n",
       "      <td>indiferent</td>\n",
       "      <td>dislikes</td>\n",
       "      <td>indiferent</td>\n",
       "      <td>5</td>\n",
       "      <td>Cluster 2</td>\n",
       "    </tr>\n",
       "    <tr>\n",
       "      <th>71</th>\n",
       "      <td>M</td>\n",
       "      <td>39</td>\n",
       "      <td>germany</td>\n",
       "      <td>no</td>\n",
       "      <td>dislikes</td>\n",
       "      <td>dislikes</td>\n",
       "      <td>?</td>\n",
       "      <td>likes</td>\n",
       "      <td>likes</td>\n",
       "      <td>dislikes</td>\n",
       "      <td>...</td>\n",
       "      <td>4</td>\n",
       "      <td>C</td>\n",
       "      <td>dislikes</td>\n",
       "      <td>dislikes</td>\n",
       "      <td>indiferent</td>\n",
       "      <td>dislikes</td>\n",
       "      <td>dislikes</td>\n",
       "      <td>dislikes</td>\n",
       "      <td>5</td>\n",
       "      <td>Cluster 2</td>\n",
       "    </tr>\n",
       "    <tr>\n",
       "      <th>72</th>\n",
       "      <td>M</td>\n",
       "      <td>27</td>\n",
       "      <td>canada</td>\n",
       "      <td>no</td>\n",
       "      <td>dislikes</td>\n",
       "      <td>likes</td>\n",
       "      <td>indiferent</td>\n",
       "      <td>likes</td>\n",
       "      <td>likes</td>\n",
       "      <td>dislikes</td>\n",
       "      <td>...</td>\n",
       "      <td>5</td>\n",
       "      <td>A</td>\n",
       "      <td>dislikes</td>\n",
       "      <td>dislikes</td>\n",
       "      <td>likes</td>\n",
       "      <td>dislikes</td>\n",
       "      <td>dislikes</td>\n",
       "      <td>likes</td>\n",
       "      <td>5</td>\n",
       "      <td>Cluster 2</td>\n",
       "    </tr>\n",
       "  </tbody>\n",
       "</table>\n",
       "<p>73 rows × 24 columns</p>\n",
       "</div>"
      ],
      "text/plain": [
       "   sex  age  country returning       GImg1       GImg2       GImg3  \\\n",
       "0    F   42  uruguay        no       likes  indiferent  indiferent   \n",
       "1    M   60   brasil        no       likes  indiferent  indiferent   \n",
       "2    F   25  england        no  indiferent  indiferent  indiferent   \n",
       "3    M   43   canada        no       likes    dislikes    dislikes   \n",
       "4    M   30  hungary        no  indiferent  indiferent  indiferent   \n",
       "..  ..  ...      ...       ...         ...         ...         ...   \n",
       "68   F   36  england        no  indiferent    dislikes    dislikes   \n",
       "69   M   38   russia        no    dislikes    dislikes    dislikes   \n",
       "70   F   46   canada        no    dislikes  indiferent  indiferent   \n",
       "71   M   39  germany        no    dislikes    dislikes           ?   \n",
       "72   M   27   canada        no    dislikes       likes  indiferent   \n",
       "\n",
       "         PImg1  PImg2       PImg3  ... Hostile - friendly TAudio1   TAudio2  \\\n",
       "0        likes  likes  indiferent  ...                  3       C  dislikes   \n",
       "1        likes  likes       likes  ...                  1       B  dislikes   \n",
       "2        likes  likes  indiferent  ...                  5       C  dislikes   \n",
       "3        likes  likes  indiferent  ...                  1       C  dislikes   \n",
       "4        likes  likes  indiferent  ...                  3       C  dislikes   \n",
       "..         ...    ...         ...  ...                ...     ...       ...   \n",
       "68       likes  likes    dislikes  ...                  4       C  dislikes   \n",
       "69       likes  likes    dislikes  ...                  5       C  dislikes   \n",
       "70  indiferent  likes    dislikes  ...                  2       A  dislikes   \n",
       "71       likes  likes    dislikes  ...                  4       C  dislikes   \n",
       "72       likes  likes    dislikes  ...                  5       A  dislikes   \n",
       "\n",
       "     TAudio3     QAudio1     QAudio2     QAudio3   Proxemics Type of Client  \\\n",
       "0   dislikes  indiferent    dislikes    dislikes    dislikes              0   \n",
       "1   dislikes       likes       likes    dislikes    dislikes              0   \n",
       "2   dislikes       likes    dislikes    dislikes    dislikes              0   \n",
       "3   dislikes       likes    dislikes  indiferent    dislikes              0   \n",
       "4   dislikes       likes  indiferent    dislikes    dislikes              0   \n",
       "..       ...         ...         ...         ...         ...            ...   \n",
       "68  dislikes       likes    dislikes    dislikes    dislikes              4   \n",
       "69  dislikes    dislikes    dislikes    dislikes    dislikes              5   \n",
       "70  dislikes  indiferent  indiferent    dislikes  indiferent              5   \n",
       "71  dislikes  indiferent    dislikes    dislikes    dislikes              5   \n",
       "72  dislikes       likes    dislikes    dislikes       likes              5   \n",
       "\n",
       "      Cluster  \n",
       "0   Cluster 0  \n",
       "1   Cluster 3  \n",
       "2   Cluster 0  \n",
       "3   Cluster 0  \n",
       "4   Cluster 0  \n",
       "..        ...  \n",
       "68  Cluster 2  \n",
       "69  Cluster 2  \n",
       "70  Cluster 2  \n",
       "71  Cluster 2  \n",
       "72  Cluster 2  \n",
       "\n",
       "[73 rows x 24 columns]"
      ]
     },
     "execution_count": 7,
     "metadata": {},
     "output_type": "execute_result"
    }
   ],
   "source": [
    "kMeanClusteringParameters = setup(data, normalize = True,normalize_method='zscore', verbose=False)\n",
    "KMeanClusteringModel = create_model('kmeans', num_clusters=4)\n",
    "kMeanPrediction = assign_model(KMeanClusteringModel)\n",
    "kMeanPrediction"
   ]
  },
  {
   "cell_type": "code",
   "execution_count": 8,
   "metadata": {},
   "outputs": [
    {
     "data": {
      "text/html": [],
      "text/plain": [
       "<IPython.core.display.HTML object>"
      ]
     },
     "metadata": {},
     "output_type": "display_data"
    },
    {
     "data": {
      "application/vnd.plotly.v1+json": {
       "config": {
        "plotlyServerURL": "https://plot.ly"
       },
       "data": [
        {
         "customdata": [
          [
           "F"
          ],
          [
           "M"
          ],
          [
           "F"
          ],
          [
           "M"
          ],
          [
           "F"
          ],
          [
           "F"
          ],
          [
           "M"
          ],
          [
           "F"
          ],
          [
           "M"
          ],
          [
           "F"
          ],
          [
           "M"
          ],
          [
           "F"
          ],
          [
           "F"
          ],
          [
           "F"
          ],
          [
           "F"
          ],
          [
           "M"
          ],
          [
           "M"
          ],
          [
           "M"
          ],
          [
           "M"
          ],
          [
           "M"
          ],
          [
           "M"
          ]
         ],
         "hovertemplate": "Cluster=Cluster 0<br>PCA1=%{x}<br>PCA2=%{y}<br>Feature=%{customdata[0]}<extra></extra>",
         "legendgroup": "Cluster 0",
         "marker": {
          "color": "#636efa",
          "opacity": 0.5,
          "symbol": "circle"
         },
         "mode": "markers",
         "name": "Cluster 0",
         "orientation": "v",
         "showlegend": true,
         "textposition": "top center",
         "type": "scatter",
         "x": [
          2.83026261250343,
          -1.6384955038130953,
          -0.7488964802427093,
          -1.3676102034513435,
          -1.8677597242123383,
          -0.05790742504771911,
          -0.2761240241628363,
          1.1115080672229112,
          3.019112473065099,
          -0.002970727371424163,
          -1.6003019550712323,
          0.4740882040072898,
          1.20104766868424,
          -1.396500933520192,
          2.1584941159809903,
          1.813722109469063,
          -1.3499344302694218,
          1.7933138520393488,
          -1.0564935376374438,
          1.551498142403685,
          -1.3595746709403072
         ],
         "xaxis": "x",
         "y": [
          3.5453242080021465,
          1.2926057279202219,
          -0.4897713011762935,
          1.106526857548774,
          0.3350050227806031,
          0.9295548779198204,
          0.899966918440868,
          1.4239428474648188,
          1.2640731835942975,
          0.8678912399074915,
          1.5022299029620334,
          2.4340314392698836,
          1.4218743812548376,
          1.6018707016878497,
          2.4154141585183146,
          0.4447471654148876,
          1.8976983184361844,
          4.445291479030155,
          0.7746131075277684,
          2.525646932920468,
          1.6759166011624826
         ],
         "yaxis": "y"
        },
        {
         "customdata": [
          [
           "F"
          ],
          [
           "F"
          ],
          [
           "M"
          ],
          [
           "F"
          ],
          [
           "M"
          ],
          [
           "F"
          ],
          [
           "F"
          ],
          [
           "M"
          ],
          [
           "F"
          ],
          [
           "F"
          ],
          [
           "F"
          ],
          [
           "M"
          ],
          [
           "M"
          ],
          [
           "F"
          ],
          [
           "M"
          ],
          [
           "M"
          ],
          [
           "M"
          ],
          [
           "F"
          ],
          [
           "F"
          ],
          [
           "M"
          ],
          [
           "M"
          ],
          [
           "F"
          ],
          [
           "F"
          ],
          [
           "M"
          ],
          [
           "F"
          ],
          [
           "M"
          ],
          [
           "F"
          ],
          [
           "M"
          ],
          [
           "F"
          ],
          [
           "F"
          ],
          [
           "M"
          ],
          [
           "F"
          ],
          [
           "M"
          ],
          [
           "F"
          ]
         ],
         "hovertemplate": "Cluster=Cluster 1<br>PCA1=%{x}<br>PCA2=%{y}<br>Feature=%{customdata[0]}<extra></extra>",
         "legendgroup": "Cluster 1",
         "marker": {
          "color": "#EF553B",
          "opacity": 0.5,
          "symbol": "circle"
         },
         "mode": "markers",
         "name": "Cluster 1",
         "orientation": "v",
         "showlegend": true,
         "textposition": "top center",
         "type": "scatter",
         "x": [
          -2.5414051084367237,
          -2.870655342066188,
          -2.850740171412385,
          -2.8248714176342555,
          -2.8444068220068353,
          -2.0333761821635594,
          -3.234142606123035,
          -2.95568013348828,
          -3.506792349154412,
          -1.7635824691545383,
          -1.9566343073918155,
          -2.9751718867355574,
          -2.406419681561371,
          -2.6743317935499396,
          -0.7550156983155963,
          -3.350321097005012,
          -4.886680719394765,
          -3.6465252108336017,
          -2.8247633651792494,
          -3.072154054361381,
          -2.584807903993919,
          -2.3912379854995183,
          -1.5763285752962557,
          -2.2736395853191675,
          -2.7106345322650975,
          -2.869090951422579,
          -2.1758763120622007,
          -2.3937855570121367,
          -3.1039202091488405,
          -2.709452870071401,
          -2.5923790539522398,
          -2.5493761586874055,
          -1.4310034642783034,
          -2.4644890500526704
         ],
         "xaxis": "x",
         "y": [
          -2.2280759199024565,
          0.032773441230439106,
          -0.8627082518218256,
          -0.5443022678779794,
          -0.501844489573479,
          3.3328838939198926,
          -3.1926743408340976,
          -2.0211419610163346,
          -3.3285878916157734,
          -4.661035103397262,
          -0.2705711361848647,
          -1.9851753085291668,
          0.5726808301604691,
          1.8915008885210305,
          1.6240741355365802,
          -0.9734645635813599,
          -4.64059462344211,
          -2.046798527123986,
          -0.8807539164055637,
          -2.257980440534652,
          -1.1196830626352532,
          0.7850636045685863,
          -0.1777880436074275,
          2.60232248162367,
          0.3371784014790439,
          -2.2972637737010047,
          0.1389665566978631,
          0.032788897226196094,
          -2.1891451921362037,
          -0.4111460322484281,
          0.7294308986348469,
          -0.1177977815514623,
          -1.8166569123051404,
          0.4114007162016093
         ],
         "yaxis": "y"
        },
        {
         "customdata": [
          [
           "F"
          ],
          [
           "F"
          ],
          [
           "M"
          ],
          [
           "F"
          ],
          [
           "F"
          ],
          [
           "F"
          ],
          [
           "F"
          ],
          [
           "F"
          ],
          [
           "M"
          ],
          [
           "F"
          ],
          [
           "M"
          ],
          [
           "F"
          ],
          [
           "M"
          ],
          [
           "M"
          ],
          [
           "M"
          ],
          [
           "M"
          ],
          [
           "M"
          ]
         ],
         "hovertemplate": "Cluster=Cluster 2<br>PCA1=%{x}<br>PCA2=%{y}<br>Feature=%{customdata[0]}<extra></extra>",
         "legendgroup": "Cluster 2",
         "marker": {
          "color": "#00cc96",
          "opacity": 0.5,
          "symbol": "circle"
         },
         "mode": "markers",
         "name": "Cluster 2",
         "orientation": "v",
         "showlegend": true,
         "textposition": "top center",
         "type": "scatter",
         "x": [
          3.3158600923924277,
          6.626611210552587,
          6.975430503392021,
          4.681255711106907,
          3.7944388572000394,
          4.423699742838472,
          4.2935096329210864,
          5.586162103731126,
          6.206435602570153,
          5.726348336351514,
          6.338894572395824,
          4.890305899066273,
          4.837775106650332,
          5.173510629134519,
          7.241345703276138,
          5.274754095016571,
          3.0039381893856674
         ],
         "xaxis": "x",
         "y": [
          -0.8873595561437246,
          -1.3907546484303055,
          -1.6230019070651174,
          -1.1316575787935124,
          0.7834435374561838,
          0.08804688325459453,
          1.176937326191119,
          -2.1171194803421267,
          -1.130089910396806,
          -1.9007857033196203,
          -1.2188973233179323,
          -1.0713900613911855,
          -0.5417535705553159,
          -1.3693918793560214,
          -1.4257021877575897,
          -1.128125708061327,
          -1.5735523221415164
         ],
         "yaxis": "y"
        },
        {
         "customdata": [
          [
           "M"
          ]
         ],
         "hovertemplate": "Cluster=Cluster 3<br>PCA1=%{x}<br>PCA2=%{y}<br>Feature=%{customdata[0]}<extra></extra>",
         "legendgroup": "Cluster 3",
         "marker": {
          "color": "#ab63fa",
          "opacity": 0.5,
          "symbol": "circle"
         },
         "mode": "markers",
         "name": "Cluster 3",
         "orientation": "v",
         "showlegend": true,
         "textposition": "top center",
         "type": "scatter",
         "x": [
          -1.8210609925873986
         ],
         "xaxis": "x",
         "y": [
          10.180825113808188
         ],
         "yaxis": "y"
        }
       ],
       "layout": {
        "height": 600,
        "legend": {
         "title": {
          "text": "Cluster"
         },
         "tracegroupgap": 0
        },
        "margin": {
         "t": 60
        },
        "plot_bgcolor": "rgb(240,240,240)",
        "template": {
         "data": {
          "bar": [
           {
            "error_x": {
             "color": "#2a3f5f"
            },
            "error_y": {
             "color": "#2a3f5f"
            },
            "marker": {
             "line": {
              "color": "#E5ECF6",
              "width": 0.5
             },
             "pattern": {
              "fillmode": "overlay",
              "size": 10,
              "solidity": 0.2
             }
            },
            "type": "bar"
           }
          ],
          "barpolar": [
           {
            "marker": {
             "line": {
              "color": "#E5ECF6",
              "width": 0.5
             },
             "pattern": {
              "fillmode": "overlay",
              "size": 10,
              "solidity": 0.2
             }
            },
            "type": "barpolar"
           }
          ],
          "carpet": [
           {
            "aaxis": {
             "endlinecolor": "#2a3f5f",
             "gridcolor": "white",
             "linecolor": "white",
             "minorgridcolor": "white",
             "startlinecolor": "#2a3f5f"
            },
            "baxis": {
             "endlinecolor": "#2a3f5f",
             "gridcolor": "white",
             "linecolor": "white",
             "minorgridcolor": "white",
             "startlinecolor": "#2a3f5f"
            },
            "type": "carpet"
           }
          ],
          "choropleth": [
           {
            "colorbar": {
             "outlinewidth": 0,
             "ticks": ""
            },
            "type": "choropleth"
           }
          ],
          "contour": [
           {
            "colorbar": {
             "outlinewidth": 0,
             "ticks": ""
            },
            "colorscale": [
             [
              0,
              "#0d0887"
             ],
             [
              0.1111111111111111,
              "#46039f"
             ],
             [
              0.2222222222222222,
              "#7201a8"
             ],
             [
              0.3333333333333333,
              "#9c179e"
             ],
             [
              0.4444444444444444,
              "#bd3786"
             ],
             [
              0.5555555555555556,
              "#d8576b"
             ],
             [
              0.6666666666666666,
              "#ed7953"
             ],
             [
              0.7777777777777778,
              "#fb9f3a"
             ],
             [
              0.8888888888888888,
              "#fdca26"
             ],
             [
              1,
              "#f0f921"
             ]
            ],
            "type": "contour"
           }
          ],
          "contourcarpet": [
           {
            "colorbar": {
             "outlinewidth": 0,
             "ticks": ""
            },
            "type": "contourcarpet"
           }
          ],
          "heatmap": [
           {
            "colorbar": {
             "outlinewidth": 0,
             "ticks": ""
            },
            "colorscale": [
             [
              0,
              "#0d0887"
             ],
             [
              0.1111111111111111,
              "#46039f"
             ],
             [
              0.2222222222222222,
              "#7201a8"
             ],
             [
              0.3333333333333333,
              "#9c179e"
             ],
             [
              0.4444444444444444,
              "#bd3786"
             ],
             [
              0.5555555555555556,
              "#d8576b"
             ],
             [
              0.6666666666666666,
              "#ed7953"
             ],
             [
              0.7777777777777778,
              "#fb9f3a"
             ],
             [
              0.8888888888888888,
              "#fdca26"
             ],
             [
              1,
              "#f0f921"
             ]
            ],
            "type": "heatmap"
           }
          ],
          "heatmapgl": [
           {
            "colorbar": {
             "outlinewidth": 0,
             "ticks": ""
            },
            "colorscale": [
             [
              0,
              "#0d0887"
             ],
             [
              0.1111111111111111,
              "#46039f"
             ],
             [
              0.2222222222222222,
              "#7201a8"
             ],
             [
              0.3333333333333333,
              "#9c179e"
             ],
             [
              0.4444444444444444,
              "#bd3786"
             ],
             [
              0.5555555555555556,
              "#d8576b"
             ],
             [
              0.6666666666666666,
              "#ed7953"
             ],
             [
              0.7777777777777778,
              "#fb9f3a"
             ],
             [
              0.8888888888888888,
              "#fdca26"
             ],
             [
              1,
              "#f0f921"
             ]
            ],
            "type": "heatmapgl"
           }
          ],
          "histogram": [
           {
            "marker": {
             "pattern": {
              "fillmode": "overlay",
              "size": 10,
              "solidity": 0.2
             }
            },
            "type": "histogram"
           }
          ],
          "histogram2d": [
           {
            "colorbar": {
             "outlinewidth": 0,
             "ticks": ""
            },
            "colorscale": [
             [
              0,
              "#0d0887"
             ],
             [
              0.1111111111111111,
              "#46039f"
             ],
             [
              0.2222222222222222,
              "#7201a8"
             ],
             [
              0.3333333333333333,
              "#9c179e"
             ],
             [
              0.4444444444444444,
              "#bd3786"
             ],
             [
              0.5555555555555556,
              "#d8576b"
             ],
             [
              0.6666666666666666,
              "#ed7953"
             ],
             [
              0.7777777777777778,
              "#fb9f3a"
             ],
             [
              0.8888888888888888,
              "#fdca26"
             ],
             [
              1,
              "#f0f921"
             ]
            ],
            "type": "histogram2d"
           }
          ],
          "histogram2dcontour": [
           {
            "colorbar": {
             "outlinewidth": 0,
             "ticks": ""
            },
            "colorscale": [
             [
              0,
              "#0d0887"
             ],
             [
              0.1111111111111111,
              "#46039f"
             ],
             [
              0.2222222222222222,
              "#7201a8"
             ],
             [
              0.3333333333333333,
              "#9c179e"
             ],
             [
              0.4444444444444444,
              "#bd3786"
             ],
             [
              0.5555555555555556,
              "#d8576b"
             ],
             [
              0.6666666666666666,
              "#ed7953"
             ],
             [
              0.7777777777777778,
              "#fb9f3a"
             ],
             [
              0.8888888888888888,
              "#fdca26"
             ],
             [
              1,
              "#f0f921"
             ]
            ],
            "type": "histogram2dcontour"
           }
          ],
          "mesh3d": [
           {
            "colorbar": {
             "outlinewidth": 0,
             "ticks": ""
            },
            "type": "mesh3d"
           }
          ],
          "parcoords": [
           {
            "line": {
             "colorbar": {
              "outlinewidth": 0,
              "ticks": ""
             }
            },
            "type": "parcoords"
           }
          ],
          "pie": [
           {
            "automargin": true,
            "type": "pie"
           }
          ],
          "scatter": [
           {
            "fillpattern": {
             "fillmode": "overlay",
             "size": 10,
             "solidity": 0.2
            },
            "type": "scatter"
           }
          ],
          "scatter3d": [
           {
            "line": {
             "colorbar": {
              "outlinewidth": 0,
              "ticks": ""
             }
            },
            "marker": {
             "colorbar": {
              "outlinewidth": 0,
              "ticks": ""
             }
            },
            "type": "scatter3d"
           }
          ],
          "scattercarpet": [
           {
            "marker": {
             "colorbar": {
              "outlinewidth": 0,
              "ticks": ""
             }
            },
            "type": "scattercarpet"
           }
          ],
          "scattergeo": [
           {
            "marker": {
             "colorbar": {
              "outlinewidth": 0,
              "ticks": ""
             }
            },
            "type": "scattergeo"
           }
          ],
          "scattergl": [
           {
            "marker": {
             "colorbar": {
              "outlinewidth": 0,
              "ticks": ""
             }
            },
            "type": "scattergl"
           }
          ],
          "scattermapbox": [
           {
            "marker": {
             "colorbar": {
              "outlinewidth": 0,
              "ticks": ""
             }
            },
            "type": "scattermapbox"
           }
          ],
          "scatterpolar": [
           {
            "marker": {
             "colorbar": {
              "outlinewidth": 0,
              "ticks": ""
             }
            },
            "type": "scatterpolar"
           }
          ],
          "scatterpolargl": [
           {
            "marker": {
             "colorbar": {
              "outlinewidth": 0,
              "ticks": ""
             }
            },
            "type": "scatterpolargl"
           }
          ],
          "scatterternary": [
           {
            "marker": {
             "colorbar": {
              "outlinewidth": 0,
              "ticks": ""
             }
            },
            "type": "scatterternary"
           }
          ],
          "surface": [
           {
            "colorbar": {
             "outlinewidth": 0,
             "ticks": ""
            },
            "colorscale": [
             [
              0,
              "#0d0887"
             ],
             [
              0.1111111111111111,
              "#46039f"
             ],
             [
              0.2222222222222222,
              "#7201a8"
             ],
             [
              0.3333333333333333,
              "#9c179e"
             ],
             [
              0.4444444444444444,
              "#bd3786"
             ],
             [
              0.5555555555555556,
              "#d8576b"
             ],
             [
              0.6666666666666666,
              "#ed7953"
             ],
             [
              0.7777777777777778,
              "#fb9f3a"
             ],
             [
              0.8888888888888888,
              "#fdca26"
             ],
             [
              1,
              "#f0f921"
             ]
            ],
            "type": "surface"
           }
          ],
          "table": [
           {
            "cells": {
             "fill": {
              "color": "#EBF0F8"
             },
             "line": {
              "color": "white"
             }
            },
            "header": {
             "fill": {
              "color": "#C8D4E3"
             },
             "line": {
              "color": "white"
             }
            },
            "type": "table"
           }
          ]
         },
         "layout": {
          "annotationdefaults": {
           "arrowcolor": "#2a3f5f",
           "arrowhead": 0,
           "arrowwidth": 1
          },
          "autotypenumbers": "strict",
          "coloraxis": {
           "colorbar": {
            "outlinewidth": 0,
            "ticks": ""
           }
          },
          "colorscale": {
           "diverging": [
            [
             0,
             "#8e0152"
            ],
            [
             0.1,
             "#c51b7d"
            ],
            [
             0.2,
             "#de77ae"
            ],
            [
             0.3,
             "#f1b6da"
            ],
            [
             0.4,
             "#fde0ef"
            ],
            [
             0.5,
             "#f7f7f7"
            ],
            [
             0.6,
             "#e6f5d0"
            ],
            [
             0.7,
             "#b8e186"
            ],
            [
             0.8,
             "#7fbc41"
            ],
            [
             0.9,
             "#4d9221"
            ],
            [
             1,
             "#276419"
            ]
           ],
           "sequential": [
            [
             0,
             "#0d0887"
            ],
            [
             0.1111111111111111,
             "#46039f"
            ],
            [
             0.2222222222222222,
             "#7201a8"
            ],
            [
             0.3333333333333333,
             "#9c179e"
            ],
            [
             0.4444444444444444,
             "#bd3786"
            ],
            [
             0.5555555555555556,
             "#d8576b"
            ],
            [
             0.6666666666666666,
             "#ed7953"
            ],
            [
             0.7777777777777778,
             "#fb9f3a"
            ],
            [
             0.8888888888888888,
             "#fdca26"
            ],
            [
             1,
             "#f0f921"
            ]
           ],
           "sequentialminus": [
            [
             0,
             "#0d0887"
            ],
            [
             0.1111111111111111,
             "#46039f"
            ],
            [
             0.2222222222222222,
             "#7201a8"
            ],
            [
             0.3333333333333333,
             "#9c179e"
            ],
            [
             0.4444444444444444,
             "#bd3786"
            ],
            [
             0.5555555555555556,
             "#d8576b"
            ],
            [
             0.6666666666666666,
             "#ed7953"
            ],
            [
             0.7777777777777778,
             "#fb9f3a"
            ],
            [
             0.8888888888888888,
             "#fdca26"
            ],
            [
             1,
             "#f0f921"
            ]
           ]
          },
          "colorway": [
           "#636efa",
           "#EF553B",
           "#00cc96",
           "#ab63fa",
           "#FFA15A",
           "#19d3f3",
           "#FF6692",
           "#B6E880",
           "#FF97FF",
           "#FECB52"
          ],
          "font": {
           "color": "#2a3f5f"
          },
          "geo": {
           "bgcolor": "white",
           "lakecolor": "white",
           "landcolor": "#E5ECF6",
           "showlakes": true,
           "showland": true,
           "subunitcolor": "white"
          },
          "hoverlabel": {
           "align": "left"
          },
          "hovermode": "closest",
          "mapbox": {
           "style": "light"
          },
          "paper_bgcolor": "white",
          "plot_bgcolor": "#E5ECF6",
          "polar": {
           "angularaxis": {
            "gridcolor": "white",
            "linecolor": "white",
            "ticks": ""
           },
           "bgcolor": "#E5ECF6",
           "radialaxis": {
            "gridcolor": "white",
            "linecolor": "white",
            "ticks": ""
           }
          },
          "scene": {
           "xaxis": {
            "backgroundcolor": "#E5ECF6",
            "gridcolor": "white",
            "gridwidth": 2,
            "linecolor": "white",
            "showbackground": true,
            "ticks": "",
            "zerolinecolor": "white"
           },
           "yaxis": {
            "backgroundcolor": "#E5ECF6",
            "gridcolor": "white",
            "gridwidth": 2,
            "linecolor": "white",
            "showbackground": true,
            "ticks": "",
            "zerolinecolor": "white"
           },
           "zaxis": {
            "backgroundcolor": "#E5ECF6",
            "gridcolor": "white",
            "gridwidth": 2,
            "linecolor": "white",
            "showbackground": true,
            "ticks": "",
            "zerolinecolor": "white"
           }
          },
          "shapedefaults": {
           "line": {
            "color": "#2a3f5f"
           }
          },
          "ternary": {
           "aaxis": {
            "gridcolor": "white",
            "linecolor": "white",
            "ticks": ""
           },
           "baxis": {
            "gridcolor": "white",
            "linecolor": "white",
            "ticks": ""
           },
           "bgcolor": "#E5ECF6",
           "caxis": {
            "gridcolor": "white",
            "linecolor": "white",
            "ticks": ""
           }
          },
          "title": {
           "x": 0.05
          },
          "xaxis": {
           "automargin": true,
           "gridcolor": "white",
           "linecolor": "white",
           "ticks": "",
           "title": {
            "standoff": 15
           },
           "zerolinecolor": "white",
           "zerolinewidth": 2
          },
          "yaxis": {
           "automargin": true,
           "gridcolor": "white",
           "linecolor": "white",
           "ticks": "",
           "title": {
            "standoff": 15
           },
           "zerolinecolor": "white",
           "zerolinewidth": 2
          }
         }
        },
        "title": {
         "text": "2D Cluster PCA Plot"
        },
        "xaxis": {
         "anchor": "y",
         "domain": [
          0,
          1
         ],
         "title": {
          "text": "PCA1"
         }
        },
        "yaxis": {
         "anchor": "x",
         "domain": [
          0,
          1
         ],
         "title": {
          "text": "PCA2"
         }
        }
       }
      }
     },
     "metadata": {},
     "output_type": "display_data"
    }
   ],
   "source": [
    "plot_model(KMeanClusteringModel, plot='cluster')"
   ]
  },
  {
   "cell_type": "code",
   "execution_count": 9,
   "metadata": {},
   "outputs": [
    {
     "data": {
      "text/html": [],
      "text/plain": [
       "<IPython.core.display.HTML object>"
      ]
     },
     "metadata": {},
     "output_type": "display_data"
    },
    {
     "data": {
      "application/vnd.plotly.v1+json": {
       "config": {
        "plotlyServerURL": "https://plot.ly"
       },
       "data": [
        {
         "customdata": [
          [
           "F"
          ],
          [
           "M"
          ],
          [
           "F"
          ],
          [
           "M"
          ],
          [
           "F"
          ],
          [
           "F"
          ],
          [
           "M"
          ],
          [
           "F"
          ],
          [
           "M"
          ],
          [
           "F"
          ],
          [
           "M"
          ],
          [
           "F"
          ],
          [
           "F"
          ],
          [
           "F"
          ],
          [
           "F"
          ],
          [
           "M"
          ],
          [
           "M"
          ],
          [
           "M"
          ],
          [
           "M"
          ],
          [
           "M"
          ],
          [
           "M"
          ]
         ],
         "hovertemplate": "Cluster=Cluster 0<br>0=%{x}<br>1=%{y}<br>2=%{z}<br>Feature=%{customdata[0]}<extra></extra>",
         "legendgroup": "Cluster 0",
         "marker": {
          "color": "#636efa",
          "opacity": 0.7,
          "symbol": "circle"
         },
         "mode": "markers",
         "name": "Cluster 0",
         "scene": "scene",
         "showlegend": true,
         "type": "scatter3d",
         "x": [
          59.716835,
          -64.649315,
          65.07839,
          64.77208,
          1.4377377,
          -97.46423,
          103.05306,
          0.7542585,
          87.21007,
          118.250435,
          -47.433846,
          -25.723104,
          -96.9348,
          100.27251,
          -51.0461,
          -114.41209,
          33.423676,
          -0.23451734,
          -118.95151,
          -12.436667,
          -85.79592
         ],
         "y": [
          10.146214,
          -0.9995007,
          84.64687,
          21.772902,
          74.105034,
          -70.70376,
          39.304146,
          72.54454,
          -65.62708,
          -4.4681077,
          -22.41083,
          -10.589433,
          -97.66949,
          -10.175346,
          -42.839825,
          -51.106133,
          38.377205,
          -35.425644,
          53.597694,
          -48.177776,
          -2.6097233
         ],
         "z": [
          116.54718,
          101.36046,
          2.9159102,
          -0.6626085,
          29.265707,
          -0.70471907,
          -33.60472,
          -253.3525,
          67.51513,
          14.7464075,
          49.604336,
          -112.807175,
          59.789204,
          75.19536,
          -20.748236,
          -63.15963,
          47.39843,
          -135.72656,
          27.621023,
          14.233549,
          -34.541992
         ]
        },
        {
         "customdata": [
          [
           "F"
          ],
          [
           "F"
          ],
          [
           "M"
          ],
          [
           "F"
          ],
          [
           "M"
          ],
          [
           "F"
          ],
          [
           "F"
          ],
          [
           "M"
          ],
          [
           "F"
          ],
          [
           "F"
          ],
          [
           "F"
          ],
          [
           "M"
          ],
          [
           "M"
          ],
          [
           "F"
          ],
          [
           "M"
          ],
          [
           "M"
          ],
          [
           "M"
          ],
          [
           "F"
          ],
          [
           "F"
          ],
          [
           "M"
          ],
          [
           "M"
          ],
          [
           "F"
          ],
          [
           "F"
          ],
          [
           "M"
          ],
          [
           "F"
          ],
          [
           "M"
          ],
          [
           "F"
          ],
          [
           "M"
          ],
          [
           "F"
          ],
          [
           "F"
          ],
          [
           "M"
          ],
          [
           "F"
          ],
          [
           "M"
          ],
          [
           "F"
          ]
         ],
         "hovertemplate": "Cluster=Cluster 1<br>0=%{x}<br>1=%{y}<br>2=%{z}<br>Feature=%{customdata[0]}<extra></extra>",
         "legendgroup": "Cluster 1",
         "marker": {
          "color": "#EF553B",
          "opacity": 0.7,
          "symbol": "circle"
         },
         "mode": "markers",
         "name": "Cluster 1",
         "scene": "scene",
         "showlegend": true,
         "type": "scatter3d",
         "x": [
          -76.31706,
          -55.536774,
          28.470482,
          -48.710983,
          63.355408,
          -27.546734,
          41.54694,
          -89.00897,
          2.9864357,
          -58.045105,
          -1.6246387,
          84.412056,
          -0.6736272,
          -14.161899,
          -14.7211685,
          -28.207273,
          58.350765,
          -60.789864,
          -55.665184,
          115.1702,
          -17.872637,
          -47.39079,
          96.10952,
          -79.61011,
          -42.108658,
          48.436996,
          25.041056,
          -11.604364,
          5.915512,
          -45.97308,
          -109.5597,
          80.546814,
          33.64402,
          -95.32966
         ],
         "y": [
          102.52434,
          132.94981,
          120.88995,
          -40.351955,
          -12.06971,
          90.042854,
          0.5887146,
          -155.0616,
          38.727745,
          62.85464,
          11.443477,
          52.484737,
          56.781414,
          31.883204,
          24.161919,
          -108.45043,
          113.12228,
          72.65466,
          30.385275,
          61.21821,
          98.53368,
          -50.590343,
          58.386593,
          10.828347,
          -97.3153,
          78.62796,
          55.17367,
          -0.025184324,
          -20.908716,
          34.22876,
          -22.148235,
          135.08115,
          -1.9609075,
          -2.120274
         ],
         "z": [
          -57.43624,
          26.292854,
          46.646984,
          -71.68318,
          34.23357,
          -20.905815,
          -87.945404,
          81.59239,
          132.44043,
          112.20879,
          5.480388,
          54.397358,
          -65.57866,
          -138.02669,
          67.22911,
          67.65996,
          -59.691566,
          46.962166,
          5.0682645,
          22.193533,
          88.98816,
          84.305244,
          -92.253365,
          -107.17558,
          17.339094,
          98.25673,
          -22.860075,
          -44.54933,
          109.490616,
          -48.97205,
          58.17945,
          13.59392,
          -29.335878,
          21.221548
         ]
        },
        {
         "customdata": [
          [
           "F"
          ],
          [
           "F"
          ],
          [
           "M"
          ],
          [
           "F"
          ],
          [
           "F"
          ],
          [
           "F"
          ],
          [
           "F"
          ],
          [
           "F"
          ],
          [
           "M"
          ],
          [
           "F"
          ],
          [
           "M"
          ],
          [
           "F"
          ],
          [
           "M"
          ],
          [
           "M"
          ],
          [
           "M"
          ],
          [
           "M"
          ],
          [
           "M"
          ]
         ],
         "hovertemplate": "Cluster=Cluster 2<br>0=%{x}<br>1=%{y}<br>2=%{z}<br>Feature=%{customdata[0]}<extra></extra>",
         "legendgroup": "Cluster 2",
         "marker": {
          "color": "#00cc96",
          "opacity": 0.7,
          "symbol": "circle"
         },
         "mode": "markers",
         "name": "Cluster 2",
         "scene": "scene",
         "showlegend": true,
         "type": "scatter3d",
         "x": [
          22.201479,
          100.196434,
          107.79054,
          35.238667,
          10.301991,
          17.620947,
          36.448204,
          120.00733,
          61.577927,
          -36.08762,
          79.88045,
          73.884224,
          64.71123,
          27.673342,
          48.770092,
          -111.49054,
          8.579722
         ],
         "y": [
          -29.910936,
          -23.431728,
          -66.98006,
          57.2133,
          -89.55964,
          -124.690094,
          -76.01071,
          -22.214417,
          -76.91268,
          -113.7992,
          -112.36882,
          -125.92499,
          -49.04392,
          -86.53614,
          -137.39839,
          47.663948,
          -46.824387
         ],
         "z": [
          54.494648,
          -102.82823,
          -4.2668133,
          -111.135506,
          -26.355522,
          4.2030845,
          3.2742083,
          -55.33337,
          -89.70519,
          -62.330647,
          -30.536125,
          41.790455,
          -46.00538,
          73.66392,
          -55.49959,
          -46.741272,
          -68.70066
         ]
        },
        {
         "customdata": [
          [
           "M"
          ]
         ],
         "hovertemplate": "Cluster=Cluster 3<br>0=%{x}<br>1=%{y}<br>2=%{z}<br>Feature=%{customdata[0]}<extra></extra>",
         "legendgroup": "Cluster 3",
         "marker": {
          "color": "#ab63fa",
          "opacity": 0.7,
          "symbol": "circle"
         },
         "mode": "markers",
         "name": "Cluster 3",
         "scene": "scene",
         "showlegend": true,
         "type": "scatter3d",
         "x": [
          -4.9853334
         ],
         "y": [
          131.91946
         ],
         "z": [
          -34.94489
         ]
        }
       ],
       "layout": {
        "height": 800,
        "legend": {
         "title": {
          "text": "Cluster"
         },
         "tracegroupgap": 0
        },
        "scene": {
         "domain": {
          "x": [
           0,
           1
          ],
          "y": [
           0,
           1
          ]
         },
         "xaxis": {
          "title": {
           "text": "0"
          }
         },
         "yaxis": {
          "title": {
           "text": "1"
          }
         },
         "zaxis": {
          "title": {
           "text": "2"
          }
         }
        },
        "template": {
         "data": {
          "bar": [
           {
            "error_x": {
             "color": "#2a3f5f"
            },
            "error_y": {
             "color": "#2a3f5f"
            },
            "marker": {
             "line": {
              "color": "#E5ECF6",
              "width": 0.5
             },
             "pattern": {
              "fillmode": "overlay",
              "size": 10,
              "solidity": 0.2
             }
            },
            "type": "bar"
           }
          ],
          "barpolar": [
           {
            "marker": {
             "line": {
              "color": "#E5ECF6",
              "width": 0.5
             },
             "pattern": {
              "fillmode": "overlay",
              "size": 10,
              "solidity": 0.2
             }
            },
            "type": "barpolar"
           }
          ],
          "carpet": [
           {
            "aaxis": {
             "endlinecolor": "#2a3f5f",
             "gridcolor": "white",
             "linecolor": "white",
             "minorgridcolor": "white",
             "startlinecolor": "#2a3f5f"
            },
            "baxis": {
             "endlinecolor": "#2a3f5f",
             "gridcolor": "white",
             "linecolor": "white",
             "minorgridcolor": "white",
             "startlinecolor": "#2a3f5f"
            },
            "type": "carpet"
           }
          ],
          "choropleth": [
           {
            "colorbar": {
             "outlinewidth": 0,
             "ticks": ""
            },
            "type": "choropleth"
           }
          ],
          "contour": [
           {
            "colorbar": {
             "outlinewidth": 0,
             "ticks": ""
            },
            "colorscale": [
             [
              0,
              "#0d0887"
             ],
             [
              0.1111111111111111,
              "#46039f"
             ],
             [
              0.2222222222222222,
              "#7201a8"
             ],
             [
              0.3333333333333333,
              "#9c179e"
             ],
             [
              0.4444444444444444,
              "#bd3786"
             ],
             [
              0.5555555555555556,
              "#d8576b"
             ],
             [
              0.6666666666666666,
              "#ed7953"
             ],
             [
              0.7777777777777778,
              "#fb9f3a"
             ],
             [
              0.8888888888888888,
              "#fdca26"
             ],
             [
              1,
              "#f0f921"
             ]
            ],
            "type": "contour"
           }
          ],
          "contourcarpet": [
           {
            "colorbar": {
             "outlinewidth": 0,
             "ticks": ""
            },
            "type": "contourcarpet"
           }
          ],
          "heatmap": [
           {
            "colorbar": {
             "outlinewidth": 0,
             "ticks": ""
            },
            "colorscale": [
             [
              0,
              "#0d0887"
             ],
             [
              0.1111111111111111,
              "#46039f"
             ],
             [
              0.2222222222222222,
              "#7201a8"
             ],
             [
              0.3333333333333333,
              "#9c179e"
             ],
             [
              0.4444444444444444,
              "#bd3786"
             ],
             [
              0.5555555555555556,
              "#d8576b"
             ],
             [
              0.6666666666666666,
              "#ed7953"
             ],
             [
              0.7777777777777778,
              "#fb9f3a"
             ],
             [
              0.8888888888888888,
              "#fdca26"
             ],
             [
              1,
              "#f0f921"
             ]
            ],
            "type": "heatmap"
           }
          ],
          "heatmapgl": [
           {
            "colorbar": {
             "outlinewidth": 0,
             "ticks": ""
            },
            "colorscale": [
             [
              0,
              "#0d0887"
             ],
             [
              0.1111111111111111,
              "#46039f"
             ],
             [
              0.2222222222222222,
              "#7201a8"
             ],
             [
              0.3333333333333333,
              "#9c179e"
             ],
             [
              0.4444444444444444,
              "#bd3786"
             ],
             [
              0.5555555555555556,
              "#d8576b"
             ],
             [
              0.6666666666666666,
              "#ed7953"
             ],
             [
              0.7777777777777778,
              "#fb9f3a"
             ],
             [
              0.8888888888888888,
              "#fdca26"
             ],
             [
              1,
              "#f0f921"
             ]
            ],
            "type": "heatmapgl"
           }
          ],
          "histogram": [
           {
            "marker": {
             "pattern": {
              "fillmode": "overlay",
              "size": 10,
              "solidity": 0.2
             }
            },
            "type": "histogram"
           }
          ],
          "histogram2d": [
           {
            "colorbar": {
             "outlinewidth": 0,
             "ticks": ""
            },
            "colorscale": [
             [
              0,
              "#0d0887"
             ],
             [
              0.1111111111111111,
              "#46039f"
             ],
             [
              0.2222222222222222,
              "#7201a8"
             ],
             [
              0.3333333333333333,
              "#9c179e"
             ],
             [
              0.4444444444444444,
              "#bd3786"
             ],
             [
              0.5555555555555556,
              "#d8576b"
             ],
             [
              0.6666666666666666,
              "#ed7953"
             ],
             [
              0.7777777777777778,
              "#fb9f3a"
             ],
             [
              0.8888888888888888,
              "#fdca26"
             ],
             [
              1,
              "#f0f921"
             ]
            ],
            "type": "histogram2d"
           }
          ],
          "histogram2dcontour": [
           {
            "colorbar": {
             "outlinewidth": 0,
             "ticks": ""
            },
            "colorscale": [
             [
              0,
              "#0d0887"
             ],
             [
              0.1111111111111111,
              "#46039f"
             ],
             [
              0.2222222222222222,
              "#7201a8"
             ],
             [
              0.3333333333333333,
              "#9c179e"
             ],
             [
              0.4444444444444444,
              "#bd3786"
             ],
             [
              0.5555555555555556,
              "#d8576b"
             ],
             [
              0.6666666666666666,
              "#ed7953"
             ],
             [
              0.7777777777777778,
              "#fb9f3a"
             ],
             [
              0.8888888888888888,
              "#fdca26"
             ],
             [
              1,
              "#f0f921"
             ]
            ],
            "type": "histogram2dcontour"
           }
          ],
          "mesh3d": [
           {
            "colorbar": {
             "outlinewidth": 0,
             "ticks": ""
            },
            "type": "mesh3d"
           }
          ],
          "parcoords": [
           {
            "line": {
             "colorbar": {
              "outlinewidth": 0,
              "ticks": ""
             }
            },
            "type": "parcoords"
           }
          ],
          "pie": [
           {
            "automargin": true,
            "type": "pie"
           }
          ],
          "scatter": [
           {
            "fillpattern": {
             "fillmode": "overlay",
             "size": 10,
             "solidity": 0.2
            },
            "type": "scatter"
           }
          ],
          "scatter3d": [
           {
            "line": {
             "colorbar": {
              "outlinewidth": 0,
              "ticks": ""
             }
            },
            "marker": {
             "colorbar": {
              "outlinewidth": 0,
              "ticks": ""
             }
            },
            "type": "scatter3d"
           }
          ],
          "scattercarpet": [
           {
            "marker": {
             "colorbar": {
              "outlinewidth": 0,
              "ticks": ""
             }
            },
            "type": "scattercarpet"
           }
          ],
          "scattergeo": [
           {
            "marker": {
             "colorbar": {
              "outlinewidth": 0,
              "ticks": ""
             }
            },
            "type": "scattergeo"
           }
          ],
          "scattergl": [
           {
            "marker": {
             "colorbar": {
              "outlinewidth": 0,
              "ticks": ""
             }
            },
            "type": "scattergl"
           }
          ],
          "scattermapbox": [
           {
            "marker": {
             "colorbar": {
              "outlinewidth": 0,
              "ticks": ""
             }
            },
            "type": "scattermapbox"
           }
          ],
          "scatterpolar": [
           {
            "marker": {
             "colorbar": {
              "outlinewidth": 0,
              "ticks": ""
             }
            },
            "type": "scatterpolar"
           }
          ],
          "scatterpolargl": [
           {
            "marker": {
             "colorbar": {
              "outlinewidth": 0,
              "ticks": ""
             }
            },
            "type": "scatterpolargl"
           }
          ],
          "scatterternary": [
           {
            "marker": {
             "colorbar": {
              "outlinewidth": 0,
              "ticks": ""
             }
            },
            "type": "scatterternary"
           }
          ],
          "surface": [
           {
            "colorbar": {
             "outlinewidth": 0,
             "ticks": ""
            },
            "colorscale": [
             [
              0,
              "#0d0887"
             ],
             [
              0.1111111111111111,
              "#46039f"
             ],
             [
              0.2222222222222222,
              "#7201a8"
             ],
             [
              0.3333333333333333,
              "#9c179e"
             ],
             [
              0.4444444444444444,
              "#bd3786"
             ],
             [
              0.5555555555555556,
              "#d8576b"
             ],
             [
              0.6666666666666666,
              "#ed7953"
             ],
             [
              0.7777777777777778,
              "#fb9f3a"
             ],
             [
              0.8888888888888888,
              "#fdca26"
             ],
             [
              1,
              "#f0f921"
             ]
            ],
            "type": "surface"
           }
          ],
          "table": [
           {
            "cells": {
             "fill": {
              "color": "#EBF0F8"
             },
             "line": {
              "color": "white"
             }
            },
            "header": {
             "fill": {
              "color": "#C8D4E3"
             },
             "line": {
              "color": "white"
             }
            },
            "type": "table"
           }
          ]
         },
         "layout": {
          "annotationdefaults": {
           "arrowcolor": "#2a3f5f",
           "arrowhead": 0,
           "arrowwidth": 1
          },
          "autotypenumbers": "strict",
          "coloraxis": {
           "colorbar": {
            "outlinewidth": 0,
            "ticks": ""
           }
          },
          "colorscale": {
           "diverging": [
            [
             0,
             "#8e0152"
            ],
            [
             0.1,
             "#c51b7d"
            ],
            [
             0.2,
             "#de77ae"
            ],
            [
             0.3,
             "#f1b6da"
            ],
            [
             0.4,
             "#fde0ef"
            ],
            [
             0.5,
             "#f7f7f7"
            ],
            [
             0.6,
             "#e6f5d0"
            ],
            [
             0.7,
             "#b8e186"
            ],
            [
             0.8,
             "#7fbc41"
            ],
            [
             0.9,
             "#4d9221"
            ],
            [
             1,
             "#276419"
            ]
           ],
           "sequential": [
            [
             0,
             "#0d0887"
            ],
            [
             0.1111111111111111,
             "#46039f"
            ],
            [
             0.2222222222222222,
             "#7201a8"
            ],
            [
             0.3333333333333333,
             "#9c179e"
            ],
            [
             0.4444444444444444,
             "#bd3786"
            ],
            [
             0.5555555555555556,
             "#d8576b"
            ],
            [
             0.6666666666666666,
             "#ed7953"
            ],
            [
             0.7777777777777778,
             "#fb9f3a"
            ],
            [
             0.8888888888888888,
             "#fdca26"
            ],
            [
             1,
             "#f0f921"
            ]
           ],
           "sequentialminus": [
            [
             0,
             "#0d0887"
            ],
            [
             0.1111111111111111,
             "#46039f"
            ],
            [
             0.2222222222222222,
             "#7201a8"
            ],
            [
             0.3333333333333333,
             "#9c179e"
            ],
            [
             0.4444444444444444,
             "#bd3786"
            ],
            [
             0.5555555555555556,
             "#d8576b"
            ],
            [
             0.6666666666666666,
             "#ed7953"
            ],
            [
             0.7777777777777778,
             "#fb9f3a"
            ],
            [
             0.8888888888888888,
             "#fdca26"
            ],
            [
             1,
             "#f0f921"
            ]
           ]
          },
          "colorway": [
           "#636efa",
           "#EF553B",
           "#00cc96",
           "#ab63fa",
           "#FFA15A",
           "#19d3f3",
           "#FF6692",
           "#B6E880",
           "#FF97FF",
           "#FECB52"
          ],
          "font": {
           "color": "#2a3f5f"
          },
          "geo": {
           "bgcolor": "white",
           "lakecolor": "white",
           "landcolor": "#E5ECF6",
           "showlakes": true,
           "showland": true,
           "subunitcolor": "white"
          },
          "hoverlabel": {
           "align": "left"
          },
          "hovermode": "closest",
          "mapbox": {
           "style": "light"
          },
          "paper_bgcolor": "white",
          "plot_bgcolor": "#E5ECF6",
          "polar": {
           "angularaxis": {
            "gridcolor": "white",
            "linecolor": "white",
            "ticks": ""
           },
           "bgcolor": "#E5ECF6",
           "radialaxis": {
            "gridcolor": "white",
            "linecolor": "white",
            "ticks": ""
           }
          },
          "scene": {
           "xaxis": {
            "backgroundcolor": "#E5ECF6",
            "gridcolor": "white",
            "gridwidth": 2,
            "linecolor": "white",
            "showbackground": true,
            "ticks": "",
            "zerolinecolor": "white"
           },
           "yaxis": {
            "backgroundcolor": "#E5ECF6",
            "gridcolor": "white",
            "gridwidth": 2,
            "linecolor": "white",
            "showbackground": true,
            "ticks": "",
            "zerolinecolor": "white"
           },
           "zaxis": {
            "backgroundcolor": "#E5ECF6",
            "gridcolor": "white",
            "gridwidth": 2,
            "linecolor": "white",
            "showbackground": true,
            "ticks": "",
            "zerolinecolor": "white"
           }
          },
          "shapedefaults": {
           "line": {
            "color": "#2a3f5f"
           }
          },
          "ternary": {
           "aaxis": {
            "gridcolor": "white",
            "linecolor": "white",
            "ticks": ""
           },
           "baxis": {
            "gridcolor": "white",
            "linecolor": "white",
            "ticks": ""
           },
           "bgcolor": "#E5ECF6",
           "caxis": {
            "gridcolor": "white",
            "linecolor": "white",
            "ticks": ""
           }
          },
          "title": {
           "x": 0.05
          },
          "xaxis": {
           "automargin": true,
           "gridcolor": "white",
           "linecolor": "white",
           "ticks": "",
           "title": {
            "standoff": 15
           },
           "zerolinecolor": "white",
           "zerolinewidth": 2
          },
          "yaxis": {
           "automargin": true,
           "gridcolor": "white",
           "linecolor": "white",
           "ticks": "",
           "title": {
            "standoff": 15
           },
           "zerolinecolor": "white",
           "zerolinewidth": 2
          }
         }
        },
        "title": {
         "text": "3d TSNE Plot for Clusters"
        },
        "width": 900
       }
      }
     },
     "metadata": {},
     "output_type": "display_data"
    }
   ],
   "source": [
    "plot_model(KMeanClusteringModel, plot = 'tsne')"
   ]
  },
  {
   "cell_type": "markdown",
   "metadata": {},
   "source": [
    "### H-CLUST"
   ]
  },
  {
   "cell_type": "code",
   "execution_count": 10,
   "metadata": {},
   "outputs": [
    {
     "data": {
      "text/html": [],
      "text/plain": [
       "<IPython.core.display.HTML object>"
      ]
     },
     "metadata": {},
     "output_type": "display_data"
    },
    {
     "data": {
      "text/html": [
       "<style type=\"text/css\">\n",
       "</style>\n",
       "<table id=\"T_504ac\">\n",
       "  <thead>\n",
       "    <tr>\n",
       "      <th class=\"blank level0\" >&nbsp;</th>\n",
       "      <th id=\"T_504ac_level0_col0\" class=\"col_heading level0 col0\" >Silhouette</th>\n",
       "      <th id=\"T_504ac_level0_col1\" class=\"col_heading level0 col1\" >Calinski-Harabasz</th>\n",
       "      <th id=\"T_504ac_level0_col2\" class=\"col_heading level0 col2\" >Davies-Bouldin</th>\n",
       "      <th id=\"T_504ac_level0_col3\" class=\"col_heading level0 col3\" >Homogeneity</th>\n",
       "      <th id=\"T_504ac_level0_col4\" class=\"col_heading level0 col4\" >Rand Index</th>\n",
       "      <th id=\"T_504ac_level0_col5\" class=\"col_heading level0 col5\" >Completeness</th>\n",
       "    </tr>\n",
       "  </thead>\n",
       "  <tbody>\n",
       "    <tr>\n",
       "      <th id=\"T_504ac_level0_row0\" class=\"row_heading level0 row0\" >0</th>\n",
       "      <td id=\"T_504ac_row0_col0\" class=\"data row0 col0\" >0.0952</td>\n",
       "      <td id=\"T_504ac_row0_col1\" class=\"data row0 col1\" >7.1758</td>\n",
       "      <td id=\"T_504ac_row0_col2\" class=\"data row0 col2\" >3.0730</td>\n",
       "      <td id=\"T_504ac_row0_col3\" class=\"data row0 col3\" >0</td>\n",
       "      <td id=\"T_504ac_row0_col4\" class=\"data row0 col4\" >0</td>\n",
       "      <td id=\"T_504ac_row0_col5\" class=\"data row0 col5\" >0</td>\n",
       "    </tr>\n",
       "  </tbody>\n",
       "</table>\n"
      ],
      "text/plain": [
       "<pandas.io.formats.style.Styler at 0x1d59ce505d0>"
      ]
     },
     "metadata": {},
     "output_type": "display_data"
    },
    {
     "data": {
      "text/html": [],
      "text/plain": [
       "<IPython.core.display.HTML object>"
      ]
     },
     "metadata": {},
     "output_type": "display_data"
    },
    {
     "data": {
      "text/html": [
       "<div>\n",
       "<style scoped>\n",
       "    .dataframe tbody tr th:only-of-type {\n",
       "        vertical-align: middle;\n",
       "    }\n",
       "\n",
       "    .dataframe tbody tr th {\n",
       "        vertical-align: top;\n",
       "    }\n",
       "\n",
       "    .dataframe thead th {\n",
       "        text-align: right;\n",
       "    }\n",
       "</style>\n",
       "<table border=\"1\" class=\"dataframe\">\n",
       "  <thead>\n",
       "    <tr style=\"text-align: right;\">\n",
       "      <th></th>\n",
       "      <th>sex</th>\n",
       "      <th>age</th>\n",
       "      <th>country</th>\n",
       "      <th>returning</th>\n",
       "      <th>GImg1</th>\n",
       "      <th>GImg2</th>\n",
       "      <th>GImg3</th>\n",
       "      <th>PImg1</th>\n",
       "      <th>PImg2</th>\n",
       "      <th>PImg3</th>\n",
       "      <th>...</th>\n",
       "      <th>Hostile - friendly</th>\n",
       "      <th>TAudio1</th>\n",
       "      <th>TAudio2</th>\n",
       "      <th>TAudio3</th>\n",
       "      <th>QAudio1</th>\n",
       "      <th>QAudio2</th>\n",
       "      <th>QAudio3</th>\n",
       "      <th>Proxemics</th>\n",
       "      <th>Type of Client</th>\n",
       "      <th>Cluster</th>\n",
       "    </tr>\n",
       "  </thead>\n",
       "  <tbody>\n",
       "    <tr>\n",
       "      <th>0</th>\n",
       "      <td>F</td>\n",
       "      <td>42</td>\n",
       "      <td>uruguay</td>\n",
       "      <td>no</td>\n",
       "      <td>likes</td>\n",
       "      <td>indiferent</td>\n",
       "      <td>indiferent</td>\n",
       "      <td>likes</td>\n",
       "      <td>likes</td>\n",
       "      <td>indiferent</td>\n",
       "      <td>...</td>\n",
       "      <td>3</td>\n",
       "      <td>C</td>\n",
       "      <td>dislikes</td>\n",
       "      <td>dislikes</td>\n",
       "      <td>indiferent</td>\n",
       "      <td>dislikes</td>\n",
       "      <td>dislikes</td>\n",
       "      <td>dislikes</td>\n",
       "      <td>0</td>\n",
       "      <td>Cluster 0</td>\n",
       "    </tr>\n",
       "    <tr>\n",
       "      <th>1</th>\n",
       "      <td>M</td>\n",
       "      <td>60</td>\n",
       "      <td>brasil</td>\n",
       "      <td>no</td>\n",
       "      <td>likes</td>\n",
       "      <td>indiferent</td>\n",
       "      <td>indiferent</td>\n",
       "      <td>likes</td>\n",
       "      <td>likes</td>\n",
       "      <td>likes</td>\n",
       "      <td>...</td>\n",
       "      <td>1</td>\n",
       "      <td>B</td>\n",
       "      <td>dislikes</td>\n",
       "      <td>dislikes</td>\n",
       "      <td>likes</td>\n",
       "      <td>likes</td>\n",
       "      <td>dislikes</td>\n",
       "      <td>dislikes</td>\n",
       "      <td>0</td>\n",
       "      <td>Cluster 0</td>\n",
       "    </tr>\n",
       "    <tr>\n",
       "      <th>2</th>\n",
       "      <td>F</td>\n",
       "      <td>25</td>\n",
       "      <td>england</td>\n",
       "      <td>no</td>\n",
       "      <td>indiferent</td>\n",
       "      <td>indiferent</td>\n",
       "      <td>indiferent</td>\n",
       "      <td>likes</td>\n",
       "      <td>likes</td>\n",
       "      <td>indiferent</td>\n",
       "      <td>...</td>\n",
       "      <td>5</td>\n",
       "      <td>C</td>\n",
       "      <td>dislikes</td>\n",
       "      <td>dislikes</td>\n",
       "      <td>likes</td>\n",
       "      <td>dislikes</td>\n",
       "      <td>dislikes</td>\n",
       "      <td>dislikes</td>\n",
       "      <td>0</td>\n",
       "      <td>Cluster 0</td>\n",
       "    </tr>\n",
       "    <tr>\n",
       "      <th>3</th>\n",
       "      <td>M</td>\n",
       "      <td>43</td>\n",
       "      <td>canada</td>\n",
       "      <td>no</td>\n",
       "      <td>likes</td>\n",
       "      <td>dislikes</td>\n",
       "      <td>dislikes</td>\n",
       "      <td>likes</td>\n",
       "      <td>likes</td>\n",
       "      <td>indiferent</td>\n",
       "      <td>...</td>\n",
       "      <td>1</td>\n",
       "      <td>C</td>\n",
       "      <td>dislikes</td>\n",
       "      <td>dislikes</td>\n",
       "      <td>likes</td>\n",
       "      <td>dislikes</td>\n",
       "      <td>indiferent</td>\n",
       "      <td>dislikes</td>\n",
       "      <td>0</td>\n",
       "      <td>Cluster 0</td>\n",
       "    </tr>\n",
       "    <tr>\n",
       "      <th>4</th>\n",
       "      <td>M</td>\n",
       "      <td>30</td>\n",
       "      <td>hungary</td>\n",
       "      <td>no</td>\n",
       "      <td>indiferent</td>\n",
       "      <td>indiferent</td>\n",
       "      <td>indiferent</td>\n",
       "      <td>likes</td>\n",
       "      <td>likes</td>\n",
       "      <td>indiferent</td>\n",
       "      <td>...</td>\n",
       "      <td>3</td>\n",
       "      <td>C</td>\n",
       "      <td>dislikes</td>\n",
       "      <td>dislikes</td>\n",
       "      <td>likes</td>\n",
       "      <td>indiferent</td>\n",
       "      <td>dislikes</td>\n",
       "      <td>dislikes</td>\n",
       "      <td>0</td>\n",
       "      <td>Cluster 0</td>\n",
       "    </tr>\n",
       "    <tr>\n",
       "      <th>...</th>\n",
       "      <td>...</td>\n",
       "      <td>...</td>\n",
       "      <td>...</td>\n",
       "      <td>...</td>\n",
       "      <td>...</td>\n",
       "      <td>...</td>\n",
       "      <td>...</td>\n",
       "      <td>...</td>\n",
       "      <td>...</td>\n",
       "      <td>...</td>\n",
       "      <td>...</td>\n",
       "      <td>...</td>\n",
       "      <td>...</td>\n",
       "      <td>...</td>\n",
       "      <td>...</td>\n",
       "      <td>...</td>\n",
       "      <td>...</td>\n",
       "      <td>...</td>\n",
       "      <td>...</td>\n",
       "      <td>...</td>\n",
       "      <td>...</td>\n",
       "    </tr>\n",
       "    <tr>\n",
       "      <th>68</th>\n",
       "      <td>F</td>\n",
       "      <td>36</td>\n",
       "      <td>england</td>\n",
       "      <td>no</td>\n",
       "      <td>indiferent</td>\n",
       "      <td>dislikes</td>\n",
       "      <td>dislikes</td>\n",
       "      <td>likes</td>\n",
       "      <td>likes</td>\n",
       "      <td>dislikes</td>\n",
       "      <td>...</td>\n",
       "      <td>4</td>\n",
       "      <td>C</td>\n",
       "      <td>dislikes</td>\n",
       "      <td>dislikes</td>\n",
       "      <td>likes</td>\n",
       "      <td>dislikes</td>\n",
       "      <td>dislikes</td>\n",
       "      <td>dislikes</td>\n",
       "      <td>4</td>\n",
       "      <td>Cluster 1</td>\n",
       "    </tr>\n",
       "    <tr>\n",
       "      <th>69</th>\n",
       "      <td>M</td>\n",
       "      <td>38</td>\n",
       "      <td>russia</td>\n",
       "      <td>no</td>\n",
       "      <td>dislikes</td>\n",
       "      <td>dislikes</td>\n",
       "      <td>dislikes</td>\n",
       "      <td>likes</td>\n",
       "      <td>likes</td>\n",
       "      <td>dislikes</td>\n",
       "      <td>...</td>\n",
       "      <td>5</td>\n",
       "      <td>C</td>\n",
       "      <td>dislikes</td>\n",
       "      <td>dislikes</td>\n",
       "      <td>dislikes</td>\n",
       "      <td>dislikes</td>\n",
       "      <td>dislikes</td>\n",
       "      <td>dislikes</td>\n",
       "      <td>5</td>\n",
       "      <td>Cluster 1</td>\n",
       "    </tr>\n",
       "    <tr>\n",
       "      <th>70</th>\n",
       "      <td>F</td>\n",
       "      <td>46</td>\n",
       "      <td>canada</td>\n",
       "      <td>no</td>\n",
       "      <td>dislikes</td>\n",
       "      <td>indiferent</td>\n",
       "      <td>indiferent</td>\n",
       "      <td>indiferent</td>\n",
       "      <td>likes</td>\n",
       "      <td>dislikes</td>\n",
       "      <td>...</td>\n",
       "      <td>2</td>\n",
       "      <td>A</td>\n",
       "      <td>dislikes</td>\n",
       "      <td>dislikes</td>\n",
       "      <td>indiferent</td>\n",
       "      <td>indiferent</td>\n",
       "      <td>dislikes</td>\n",
       "      <td>indiferent</td>\n",
       "      <td>5</td>\n",
       "      <td>Cluster 1</td>\n",
       "    </tr>\n",
       "    <tr>\n",
       "      <th>71</th>\n",
       "      <td>M</td>\n",
       "      <td>39</td>\n",
       "      <td>germany</td>\n",
       "      <td>no</td>\n",
       "      <td>dislikes</td>\n",
       "      <td>dislikes</td>\n",
       "      <td>?</td>\n",
       "      <td>likes</td>\n",
       "      <td>likes</td>\n",
       "      <td>dislikes</td>\n",
       "      <td>...</td>\n",
       "      <td>4</td>\n",
       "      <td>C</td>\n",
       "      <td>dislikes</td>\n",
       "      <td>dislikes</td>\n",
       "      <td>indiferent</td>\n",
       "      <td>dislikes</td>\n",
       "      <td>dislikes</td>\n",
       "      <td>dislikes</td>\n",
       "      <td>5</td>\n",
       "      <td>Cluster 1</td>\n",
       "    </tr>\n",
       "    <tr>\n",
       "      <th>72</th>\n",
       "      <td>M</td>\n",
       "      <td>27</td>\n",
       "      <td>canada</td>\n",
       "      <td>no</td>\n",
       "      <td>dislikes</td>\n",
       "      <td>likes</td>\n",
       "      <td>indiferent</td>\n",
       "      <td>likes</td>\n",
       "      <td>likes</td>\n",
       "      <td>dislikes</td>\n",
       "      <td>...</td>\n",
       "      <td>5</td>\n",
       "      <td>A</td>\n",
       "      <td>dislikes</td>\n",
       "      <td>dislikes</td>\n",
       "      <td>likes</td>\n",
       "      <td>dislikes</td>\n",
       "      <td>dislikes</td>\n",
       "      <td>likes</td>\n",
       "      <td>5</td>\n",
       "      <td>Cluster 1</td>\n",
       "    </tr>\n",
       "  </tbody>\n",
       "</table>\n",
       "<p>73 rows × 24 columns</p>\n",
       "</div>"
      ],
      "text/plain": [
       "   sex  age  country returning       GImg1       GImg2       GImg3  \\\n",
       "0    F   42  uruguay        no       likes  indiferent  indiferent   \n",
       "1    M   60   brasil        no       likes  indiferent  indiferent   \n",
       "2    F   25  england        no  indiferent  indiferent  indiferent   \n",
       "3    M   43   canada        no       likes    dislikes    dislikes   \n",
       "4    M   30  hungary        no  indiferent  indiferent  indiferent   \n",
       "..  ..  ...      ...       ...         ...         ...         ...   \n",
       "68   F   36  england        no  indiferent    dislikes    dislikes   \n",
       "69   M   38   russia        no    dislikes    dislikes    dislikes   \n",
       "70   F   46   canada        no    dislikes  indiferent  indiferent   \n",
       "71   M   39  germany        no    dislikes    dislikes           ?   \n",
       "72   M   27   canada        no    dislikes       likes  indiferent   \n",
       "\n",
       "         PImg1  PImg2       PImg3  ... Hostile - friendly TAudio1   TAudio2  \\\n",
       "0        likes  likes  indiferent  ...                  3       C  dislikes   \n",
       "1        likes  likes       likes  ...                  1       B  dislikes   \n",
       "2        likes  likes  indiferent  ...                  5       C  dislikes   \n",
       "3        likes  likes  indiferent  ...                  1       C  dislikes   \n",
       "4        likes  likes  indiferent  ...                  3       C  dislikes   \n",
       "..         ...    ...         ...  ...                ...     ...       ...   \n",
       "68       likes  likes    dislikes  ...                  4       C  dislikes   \n",
       "69       likes  likes    dislikes  ...                  5       C  dislikes   \n",
       "70  indiferent  likes    dislikes  ...                  2       A  dislikes   \n",
       "71       likes  likes    dislikes  ...                  4       C  dislikes   \n",
       "72       likes  likes    dislikes  ...                  5       A  dislikes   \n",
       "\n",
       "     TAudio3     QAudio1     QAudio2     QAudio3   Proxemics Type of Client  \\\n",
       "0   dislikes  indiferent    dislikes    dislikes    dislikes              0   \n",
       "1   dislikes       likes       likes    dislikes    dislikes              0   \n",
       "2   dislikes       likes    dislikes    dislikes    dislikes              0   \n",
       "3   dislikes       likes    dislikes  indiferent    dislikes              0   \n",
       "4   dislikes       likes  indiferent    dislikes    dislikes              0   \n",
       "..       ...         ...         ...         ...         ...            ...   \n",
       "68  dislikes       likes    dislikes    dislikes    dislikes              4   \n",
       "69  dislikes    dislikes    dislikes    dislikes    dislikes              5   \n",
       "70  dislikes  indiferent  indiferent    dislikes  indiferent              5   \n",
       "71  dislikes  indiferent    dislikes    dislikes    dislikes              5   \n",
       "72  dislikes       likes    dislikes    dislikes       likes              5   \n",
       "\n",
       "      Cluster  \n",
       "0   Cluster 0  \n",
       "1   Cluster 0  \n",
       "2   Cluster 0  \n",
       "3   Cluster 0  \n",
       "4   Cluster 0  \n",
       "..        ...  \n",
       "68  Cluster 1  \n",
       "69  Cluster 1  \n",
       "70  Cluster 1  \n",
       "71  Cluster 1  \n",
       "72  Cluster 1  \n",
       "\n",
       "[73 rows x 24 columns]"
      ]
     },
     "execution_count": 10,
     "metadata": {},
     "output_type": "execute_result"
    }
   ],
   "source": [
    "hierarchicalModel = create_model('hclust', num_clusters=3)\n",
    "hierarchicalModelPrediction = assign_model(hierarchicalModel)\n",
    "hierarchicalModelPrediction"
   ]
  },
  {
   "cell_type": "code",
   "execution_count": 11,
   "metadata": {},
   "outputs": [
    {
     "data": {
      "text/html": [],
      "text/plain": [
       "<IPython.core.display.HTML object>"
      ]
     },
     "metadata": {},
     "output_type": "display_data"
    },
    {
     "data": {
      "application/vnd.plotly.v1+json": {
       "config": {
        "plotlyServerURL": "https://plot.ly"
       },
       "data": [
        {
         "customdata": [
          [
           "F"
          ],
          [
           "F"
          ],
          [
           "F"
          ],
          [
           "F"
          ],
          [
           "F"
          ],
          [
           "M"
          ],
          [
           "F"
          ],
          [
           "M"
          ],
          [
           "F"
          ],
          [
           "F"
          ],
          [
           "F"
          ],
          [
           "F"
          ],
          [
           "M"
          ],
          [
           "M"
          ],
          [
           "F"
          ],
          [
           "M"
          ],
          [
           "M"
          ],
          [
           "F"
          ],
          [
           "M"
          ],
          [
           "F"
          ]
         ],
         "hovertemplate": "Cluster=Cluster 0<br>0=%{x}<br>1=%{y}<br>2=%{z}<br>Feature=%{customdata[0]}<extra></extra>",
         "legendgroup": "Cluster 0",
         "marker": {
          "color": "#636efa",
          "opacity": 0.7,
          "symbol": "circle"
         },
         "mode": "markers",
         "name": "Cluster 0",
         "scene": "scene",
         "showlegend": true,
         "type": "scatter3d",
         "x": [
          59.716835,
          -96.9348,
          65.07839,
          -27.546734,
          96.10952,
          -12.436667,
          118.250435,
          87.21007,
          1.4377377,
          -97.46423,
          0.7542585,
          -25.723104,
          -79.61011,
          -14.7211685,
          -14.161899,
          -0.23451734,
          -114.41209,
          -51.0461,
          -4.9853334,
          -55.536774
         ],
         "y": [
          10.146214,
          -97.66949,
          84.64687,
          90.042854,
          58.386593,
          -48.177776,
          -4.4681077,
          -65.62708,
          74.105034,
          -70.70376,
          72.54454,
          -10.589433,
          10.828347,
          24.161919,
          31.883204,
          -35.425644,
          -51.106133,
          -42.839825,
          131.91946,
          132.94981
         ],
         "z": [
          116.54718,
          59.789204,
          2.9159102,
          -20.905815,
          -92.253365,
          14.233549,
          14.7464075,
          67.51513,
          29.265707,
          -0.70471907,
          -253.3525,
          -112.807175,
          -107.17558,
          67.22911,
          -138.02669,
          -135.72656,
          -63.15963,
          -20.748236,
          -34.94489,
          26.292854
         ]
        },
        {
         "customdata": [
          [
           "M"
          ],
          [
           "M"
          ],
          [
           "M"
          ],
          [
           "F"
          ],
          [
           "M"
          ],
          [
           "F"
          ],
          [
           "M"
          ],
          [
           "F"
          ],
          [
           "F"
          ],
          [
           "F"
          ],
          [
           "F"
          ],
          [
           "F"
          ],
          [
           "M"
          ],
          [
           "F"
          ],
          [
           "F"
          ],
          [
           "M"
          ],
          [
           "M"
          ]
         ],
         "hovertemplate": "Cluster=Cluster 1<br>0=%{x}<br>1=%{y}<br>2=%{z}<br>Feature=%{customdata[0]}<extra></extra>",
         "legendgroup": "Cluster 1",
         "marker": {
          "color": "#EF553B",
          "opacity": 0.7,
          "symbol": "circle"
         },
         "mode": "markers",
         "name": "Cluster 1",
         "scene": "scene",
         "showlegend": true,
         "type": "scatter3d",
         "x": [
          64.71123,
          27.673342,
          61.577927,
          120.00733,
          79.88045,
          -36.08762,
          -111.49054,
          100.196434,
          36.448204,
          17.620947,
          10.301991,
          35.238667,
          107.79054,
          22.201479,
          73.884224,
          48.770092,
          8.579722
         ],
         "y": [
          -49.04392,
          -86.53614,
          -76.91268,
          -22.214417,
          -112.36882,
          -113.7992,
          47.663948,
          -23.431728,
          -76.01071,
          -124.690094,
          -89.55964,
          57.2133,
          -66.98006,
          -29.910936,
          -125.92499,
          -137.39839,
          -46.824387
         ],
         "z": [
          -46.00538,
          73.66392,
          -89.70519,
          -55.33337,
          -30.536125,
          -62.330647,
          -46.741272,
          -102.82823,
          3.2742083,
          4.2030845,
          -26.355522,
          -111.135506,
          -4.2668133,
          54.494648,
          41.790455,
          -55.49959,
          -68.70066
         ]
        },
        {
         "customdata": [
          [
           "M"
          ],
          [
           "F"
          ],
          [
           "M"
          ],
          [
           "F"
          ],
          [
           "M"
          ],
          [
           "F"
          ],
          [
           "M"
          ],
          [
           "F"
          ],
          [
           "M"
          ],
          [
           "F"
          ],
          [
           "M"
          ],
          [
           "M"
          ],
          [
           "F"
          ],
          [
           "F"
          ],
          [
           "M"
          ],
          [
           "M"
          ],
          [
           "M"
          ],
          [
           "M"
          ],
          [
           "F"
          ],
          [
           "M"
          ],
          [
           "M"
          ],
          [
           "F"
          ],
          [
           "M"
          ],
          [
           "F"
          ],
          [
           "F"
          ],
          [
           "F"
          ],
          [
           "F"
          ],
          [
           "M"
          ],
          [
           "M"
          ],
          [
           "M"
          ],
          [
           "M"
          ],
          [
           "F"
          ],
          [
           "F"
          ],
          [
           "M"
          ],
          [
           "F"
          ],
          [
           "M"
          ]
         ],
         "hovertemplate": "Cluster=Cluster 2<br>0=%{x}<br>1=%{y}<br>2=%{z}<br>Feature=%{customdata[0]}<extra></extra>",
         "legendgroup": "Cluster 2",
         "marker": {
          "color": "#00cc96",
          "opacity": 0.7,
          "symbol": "circle"
         },
         "mode": "markers",
         "name": "Cluster 2",
         "scene": "scene",
         "showlegend": true,
         "type": "scatter3d",
         "x": [
          -64.649315,
          -95.32966,
          -109.5597,
          80.546814,
          33.64402,
          -42.108658,
          48.436996,
          5.915512,
          64.77208,
          -47.39079,
          -17.872637,
          115.1702,
          -55.665184,
          -60.789864,
          58.350765,
          -47.433846,
          -11.604364,
          -118.95151,
          -45.97308,
          -89.00897,
          63.355408,
          -48.710983,
          28.470482,
          -1.6246387,
          2.9864357,
          -76.31706,
          -58.045105,
          -28.207273,
          103.05306,
          33.423676,
          -0.6736272,
          25.041056,
          100.27251,
          -85.79592,
          41.54694,
          84.412056
         ],
         "y": [
          -0.9995007,
          -2.120274,
          -22.148235,
          135.08115,
          -1.9609075,
          -97.3153,
          78.62796,
          -20.908716,
          21.772902,
          -50.590343,
          98.53368,
          61.21821,
          30.385275,
          72.65466,
          113.12228,
          -22.41083,
          -0.025184324,
          53.597694,
          34.22876,
          -155.0616,
          -12.06971,
          -40.351955,
          120.88995,
          11.443477,
          38.727745,
          102.52434,
          62.85464,
          -108.45043,
          39.304146,
          38.377205,
          56.781414,
          55.17367,
          -10.175346,
          -2.6097233,
          0.5887146,
          52.484737
         ],
         "z": [
          101.36046,
          21.221548,
          58.17945,
          13.59392,
          -29.335878,
          17.339094,
          98.25673,
          109.490616,
          -0.6626085,
          84.305244,
          88.98816,
          22.193533,
          5.0682645,
          46.962166,
          -59.691566,
          49.604336,
          -44.54933,
          27.621023,
          -48.97205,
          81.59239,
          34.23357,
          -71.68318,
          46.646984,
          5.480388,
          132.44043,
          -57.43624,
          112.20879,
          67.65996,
          -33.60472,
          47.39843,
          -65.57866,
          -22.860075,
          75.19536,
          -34.541992,
          -87.945404,
          54.397358
         ]
        }
       ],
       "layout": {
        "height": 800,
        "legend": {
         "title": {
          "text": "Cluster"
         },
         "tracegroupgap": 0
        },
        "scene": {
         "domain": {
          "x": [
           0,
           1
          ],
          "y": [
           0,
           1
          ]
         },
         "xaxis": {
          "title": {
           "text": "0"
          }
         },
         "yaxis": {
          "title": {
           "text": "1"
          }
         },
         "zaxis": {
          "title": {
           "text": "2"
          }
         }
        },
        "template": {
         "data": {
          "bar": [
           {
            "error_x": {
             "color": "#2a3f5f"
            },
            "error_y": {
             "color": "#2a3f5f"
            },
            "marker": {
             "line": {
              "color": "#E5ECF6",
              "width": 0.5
             },
             "pattern": {
              "fillmode": "overlay",
              "size": 10,
              "solidity": 0.2
             }
            },
            "type": "bar"
           }
          ],
          "barpolar": [
           {
            "marker": {
             "line": {
              "color": "#E5ECF6",
              "width": 0.5
             },
             "pattern": {
              "fillmode": "overlay",
              "size": 10,
              "solidity": 0.2
             }
            },
            "type": "barpolar"
           }
          ],
          "carpet": [
           {
            "aaxis": {
             "endlinecolor": "#2a3f5f",
             "gridcolor": "white",
             "linecolor": "white",
             "minorgridcolor": "white",
             "startlinecolor": "#2a3f5f"
            },
            "baxis": {
             "endlinecolor": "#2a3f5f",
             "gridcolor": "white",
             "linecolor": "white",
             "minorgridcolor": "white",
             "startlinecolor": "#2a3f5f"
            },
            "type": "carpet"
           }
          ],
          "choropleth": [
           {
            "colorbar": {
             "outlinewidth": 0,
             "ticks": ""
            },
            "type": "choropleth"
           }
          ],
          "contour": [
           {
            "colorbar": {
             "outlinewidth": 0,
             "ticks": ""
            },
            "colorscale": [
             [
              0,
              "#0d0887"
             ],
             [
              0.1111111111111111,
              "#46039f"
             ],
             [
              0.2222222222222222,
              "#7201a8"
             ],
             [
              0.3333333333333333,
              "#9c179e"
             ],
             [
              0.4444444444444444,
              "#bd3786"
             ],
             [
              0.5555555555555556,
              "#d8576b"
             ],
             [
              0.6666666666666666,
              "#ed7953"
             ],
             [
              0.7777777777777778,
              "#fb9f3a"
             ],
             [
              0.8888888888888888,
              "#fdca26"
             ],
             [
              1,
              "#f0f921"
             ]
            ],
            "type": "contour"
           }
          ],
          "contourcarpet": [
           {
            "colorbar": {
             "outlinewidth": 0,
             "ticks": ""
            },
            "type": "contourcarpet"
           }
          ],
          "heatmap": [
           {
            "colorbar": {
             "outlinewidth": 0,
             "ticks": ""
            },
            "colorscale": [
             [
              0,
              "#0d0887"
             ],
             [
              0.1111111111111111,
              "#46039f"
             ],
             [
              0.2222222222222222,
              "#7201a8"
             ],
             [
              0.3333333333333333,
              "#9c179e"
             ],
             [
              0.4444444444444444,
              "#bd3786"
             ],
             [
              0.5555555555555556,
              "#d8576b"
             ],
             [
              0.6666666666666666,
              "#ed7953"
             ],
             [
              0.7777777777777778,
              "#fb9f3a"
             ],
             [
              0.8888888888888888,
              "#fdca26"
             ],
             [
              1,
              "#f0f921"
             ]
            ],
            "type": "heatmap"
           }
          ],
          "heatmapgl": [
           {
            "colorbar": {
             "outlinewidth": 0,
             "ticks": ""
            },
            "colorscale": [
             [
              0,
              "#0d0887"
             ],
             [
              0.1111111111111111,
              "#46039f"
             ],
             [
              0.2222222222222222,
              "#7201a8"
             ],
             [
              0.3333333333333333,
              "#9c179e"
             ],
             [
              0.4444444444444444,
              "#bd3786"
             ],
             [
              0.5555555555555556,
              "#d8576b"
             ],
             [
              0.6666666666666666,
              "#ed7953"
             ],
             [
              0.7777777777777778,
              "#fb9f3a"
             ],
             [
              0.8888888888888888,
              "#fdca26"
             ],
             [
              1,
              "#f0f921"
             ]
            ],
            "type": "heatmapgl"
           }
          ],
          "histogram": [
           {
            "marker": {
             "pattern": {
              "fillmode": "overlay",
              "size": 10,
              "solidity": 0.2
             }
            },
            "type": "histogram"
           }
          ],
          "histogram2d": [
           {
            "colorbar": {
             "outlinewidth": 0,
             "ticks": ""
            },
            "colorscale": [
             [
              0,
              "#0d0887"
             ],
             [
              0.1111111111111111,
              "#46039f"
             ],
             [
              0.2222222222222222,
              "#7201a8"
             ],
             [
              0.3333333333333333,
              "#9c179e"
             ],
             [
              0.4444444444444444,
              "#bd3786"
             ],
             [
              0.5555555555555556,
              "#d8576b"
             ],
             [
              0.6666666666666666,
              "#ed7953"
             ],
             [
              0.7777777777777778,
              "#fb9f3a"
             ],
             [
              0.8888888888888888,
              "#fdca26"
             ],
             [
              1,
              "#f0f921"
             ]
            ],
            "type": "histogram2d"
           }
          ],
          "histogram2dcontour": [
           {
            "colorbar": {
             "outlinewidth": 0,
             "ticks": ""
            },
            "colorscale": [
             [
              0,
              "#0d0887"
             ],
             [
              0.1111111111111111,
              "#46039f"
             ],
             [
              0.2222222222222222,
              "#7201a8"
             ],
             [
              0.3333333333333333,
              "#9c179e"
             ],
             [
              0.4444444444444444,
              "#bd3786"
             ],
             [
              0.5555555555555556,
              "#d8576b"
             ],
             [
              0.6666666666666666,
              "#ed7953"
             ],
             [
              0.7777777777777778,
              "#fb9f3a"
             ],
             [
              0.8888888888888888,
              "#fdca26"
             ],
             [
              1,
              "#f0f921"
             ]
            ],
            "type": "histogram2dcontour"
           }
          ],
          "mesh3d": [
           {
            "colorbar": {
             "outlinewidth": 0,
             "ticks": ""
            },
            "type": "mesh3d"
           }
          ],
          "parcoords": [
           {
            "line": {
             "colorbar": {
              "outlinewidth": 0,
              "ticks": ""
             }
            },
            "type": "parcoords"
           }
          ],
          "pie": [
           {
            "automargin": true,
            "type": "pie"
           }
          ],
          "scatter": [
           {
            "fillpattern": {
             "fillmode": "overlay",
             "size": 10,
             "solidity": 0.2
            },
            "type": "scatter"
           }
          ],
          "scatter3d": [
           {
            "line": {
             "colorbar": {
              "outlinewidth": 0,
              "ticks": ""
             }
            },
            "marker": {
             "colorbar": {
              "outlinewidth": 0,
              "ticks": ""
             }
            },
            "type": "scatter3d"
           }
          ],
          "scattercarpet": [
           {
            "marker": {
             "colorbar": {
              "outlinewidth": 0,
              "ticks": ""
             }
            },
            "type": "scattercarpet"
           }
          ],
          "scattergeo": [
           {
            "marker": {
             "colorbar": {
              "outlinewidth": 0,
              "ticks": ""
             }
            },
            "type": "scattergeo"
           }
          ],
          "scattergl": [
           {
            "marker": {
             "colorbar": {
              "outlinewidth": 0,
              "ticks": ""
             }
            },
            "type": "scattergl"
           }
          ],
          "scattermapbox": [
           {
            "marker": {
             "colorbar": {
              "outlinewidth": 0,
              "ticks": ""
             }
            },
            "type": "scattermapbox"
           }
          ],
          "scatterpolar": [
           {
            "marker": {
             "colorbar": {
              "outlinewidth": 0,
              "ticks": ""
             }
            },
            "type": "scatterpolar"
           }
          ],
          "scatterpolargl": [
           {
            "marker": {
             "colorbar": {
              "outlinewidth": 0,
              "ticks": ""
             }
            },
            "type": "scatterpolargl"
           }
          ],
          "scatterternary": [
           {
            "marker": {
             "colorbar": {
              "outlinewidth": 0,
              "ticks": ""
             }
            },
            "type": "scatterternary"
           }
          ],
          "surface": [
           {
            "colorbar": {
             "outlinewidth": 0,
             "ticks": ""
            },
            "colorscale": [
             [
              0,
              "#0d0887"
             ],
             [
              0.1111111111111111,
              "#46039f"
             ],
             [
              0.2222222222222222,
              "#7201a8"
             ],
             [
              0.3333333333333333,
              "#9c179e"
             ],
             [
              0.4444444444444444,
              "#bd3786"
             ],
             [
              0.5555555555555556,
              "#d8576b"
             ],
             [
              0.6666666666666666,
              "#ed7953"
             ],
             [
              0.7777777777777778,
              "#fb9f3a"
             ],
             [
              0.8888888888888888,
              "#fdca26"
             ],
             [
              1,
              "#f0f921"
             ]
            ],
            "type": "surface"
           }
          ],
          "table": [
           {
            "cells": {
             "fill": {
              "color": "#EBF0F8"
             },
             "line": {
              "color": "white"
             }
            },
            "header": {
             "fill": {
              "color": "#C8D4E3"
             },
             "line": {
              "color": "white"
             }
            },
            "type": "table"
           }
          ]
         },
         "layout": {
          "annotationdefaults": {
           "arrowcolor": "#2a3f5f",
           "arrowhead": 0,
           "arrowwidth": 1
          },
          "autotypenumbers": "strict",
          "coloraxis": {
           "colorbar": {
            "outlinewidth": 0,
            "ticks": ""
           }
          },
          "colorscale": {
           "diverging": [
            [
             0,
             "#8e0152"
            ],
            [
             0.1,
             "#c51b7d"
            ],
            [
             0.2,
             "#de77ae"
            ],
            [
             0.3,
             "#f1b6da"
            ],
            [
             0.4,
             "#fde0ef"
            ],
            [
             0.5,
             "#f7f7f7"
            ],
            [
             0.6,
             "#e6f5d0"
            ],
            [
             0.7,
             "#b8e186"
            ],
            [
             0.8,
             "#7fbc41"
            ],
            [
             0.9,
             "#4d9221"
            ],
            [
             1,
             "#276419"
            ]
           ],
           "sequential": [
            [
             0,
             "#0d0887"
            ],
            [
             0.1111111111111111,
             "#46039f"
            ],
            [
             0.2222222222222222,
             "#7201a8"
            ],
            [
             0.3333333333333333,
             "#9c179e"
            ],
            [
             0.4444444444444444,
             "#bd3786"
            ],
            [
             0.5555555555555556,
             "#d8576b"
            ],
            [
             0.6666666666666666,
             "#ed7953"
            ],
            [
             0.7777777777777778,
             "#fb9f3a"
            ],
            [
             0.8888888888888888,
             "#fdca26"
            ],
            [
             1,
             "#f0f921"
            ]
           ],
           "sequentialminus": [
            [
             0,
             "#0d0887"
            ],
            [
             0.1111111111111111,
             "#46039f"
            ],
            [
             0.2222222222222222,
             "#7201a8"
            ],
            [
             0.3333333333333333,
             "#9c179e"
            ],
            [
             0.4444444444444444,
             "#bd3786"
            ],
            [
             0.5555555555555556,
             "#d8576b"
            ],
            [
             0.6666666666666666,
             "#ed7953"
            ],
            [
             0.7777777777777778,
             "#fb9f3a"
            ],
            [
             0.8888888888888888,
             "#fdca26"
            ],
            [
             1,
             "#f0f921"
            ]
           ]
          },
          "colorway": [
           "#636efa",
           "#EF553B",
           "#00cc96",
           "#ab63fa",
           "#FFA15A",
           "#19d3f3",
           "#FF6692",
           "#B6E880",
           "#FF97FF",
           "#FECB52"
          ],
          "font": {
           "color": "#2a3f5f"
          },
          "geo": {
           "bgcolor": "white",
           "lakecolor": "white",
           "landcolor": "#E5ECF6",
           "showlakes": true,
           "showland": true,
           "subunitcolor": "white"
          },
          "hoverlabel": {
           "align": "left"
          },
          "hovermode": "closest",
          "mapbox": {
           "style": "light"
          },
          "paper_bgcolor": "white",
          "plot_bgcolor": "#E5ECF6",
          "polar": {
           "angularaxis": {
            "gridcolor": "white",
            "linecolor": "white",
            "ticks": ""
           },
           "bgcolor": "#E5ECF6",
           "radialaxis": {
            "gridcolor": "white",
            "linecolor": "white",
            "ticks": ""
           }
          },
          "scene": {
           "xaxis": {
            "backgroundcolor": "#E5ECF6",
            "gridcolor": "white",
            "gridwidth": 2,
            "linecolor": "white",
            "showbackground": true,
            "ticks": "",
            "zerolinecolor": "white"
           },
           "yaxis": {
            "backgroundcolor": "#E5ECF6",
            "gridcolor": "white",
            "gridwidth": 2,
            "linecolor": "white",
            "showbackground": true,
            "ticks": "",
            "zerolinecolor": "white"
           },
           "zaxis": {
            "backgroundcolor": "#E5ECF6",
            "gridcolor": "white",
            "gridwidth": 2,
            "linecolor": "white",
            "showbackground": true,
            "ticks": "",
            "zerolinecolor": "white"
           }
          },
          "shapedefaults": {
           "line": {
            "color": "#2a3f5f"
           }
          },
          "ternary": {
           "aaxis": {
            "gridcolor": "white",
            "linecolor": "white",
            "ticks": ""
           },
           "baxis": {
            "gridcolor": "white",
            "linecolor": "white",
            "ticks": ""
           },
           "bgcolor": "#E5ECF6",
           "caxis": {
            "gridcolor": "white",
            "linecolor": "white",
            "ticks": ""
           }
          },
          "title": {
           "x": 0.05
          },
          "xaxis": {
           "automargin": true,
           "gridcolor": "white",
           "linecolor": "white",
           "ticks": "",
           "title": {
            "standoff": 15
           },
           "zerolinecolor": "white",
           "zerolinewidth": 2
          },
          "yaxis": {
           "automargin": true,
           "gridcolor": "white",
           "linecolor": "white",
           "ticks": "",
           "title": {
            "standoff": 15
           },
           "zerolinecolor": "white",
           "zerolinewidth": 2
          }
         }
        },
        "title": {
         "text": "3d TSNE Plot for Clusters"
        },
        "width": 900
       }
      }
     },
     "metadata": {},
     "output_type": "display_data"
    }
   ],
   "source": [
    "plot_model(hierarchicalModel,plot='tsne')"
   ]
  },
  {
   "cell_type": "code",
   "execution_count": 12,
   "metadata": {},
   "outputs": [
    {
     "data": {
      "text/html": [],
      "text/plain": [
       "<IPython.core.display.HTML object>"
      ]
     },
     "metadata": {},
     "output_type": "display_data"
    },
    {
     "data": {
      "application/vnd.plotly.v1+json": {
       "config": {
        "plotlyServerURL": "https://plot.ly"
       },
       "data": [
        {
         "customdata": [
          [
           "F"
          ],
          [
           "F"
          ],
          [
           "F"
          ],
          [
           "F"
          ],
          [
           "F"
          ],
          [
           "M"
          ],
          [
           "F"
          ],
          [
           "M"
          ],
          [
           "F"
          ],
          [
           "F"
          ],
          [
           "F"
          ],
          [
           "F"
          ],
          [
           "M"
          ],
          [
           "M"
          ],
          [
           "F"
          ],
          [
           "M"
          ],
          [
           "M"
          ],
          [
           "F"
          ],
          [
           "M"
          ],
          [
           "F"
          ]
         ],
         "hovertemplate": "Cluster=Cluster 0<br>PCA1=%{x}<br>PCA2=%{y}<br>Feature=%{customdata[0]}<extra></extra>",
         "legendgroup": "Cluster 0",
         "marker": {
          "color": "#636efa",
          "opacity": 0.5,
          "symbol": "circle"
         },
         "mode": "markers",
         "name": "Cluster 0",
         "orientation": "v",
         "showlegend": true,
         "textposition": "top center",
         "type": "scatter",
         "x": [
          2.83026261250343,
          1.20104766868424,
          -0.7488964802427093,
          -2.0333761821635594,
          -1.5763285752962557,
          1.551498142403685,
          -0.002970727371424163,
          3.019112473065099,
          -1.8677597242123383,
          -0.05790742504771911,
          1.1115080672229112,
          0.4740882040072898,
          -2.2736395853191675,
          -0.7550156983155963,
          -2.6743317935499396,
          1.7933138520393488,
          1.813722109469063,
          2.1584941159809903,
          -1.8210609925873986,
          -2.870655342066188
         ],
         "xaxis": "x",
         "y": [
          3.5453242080021465,
          1.4218743812548376,
          -0.4897713011762935,
          3.3328838939198926,
          -0.1777880436074275,
          2.525646932920468,
          0.8678912399074915,
          1.2640731835942975,
          0.3350050227806031,
          0.9295548779198204,
          1.4239428474648188,
          2.4340314392698836,
          2.60232248162367,
          1.6240741355365802,
          1.8915008885210305,
          4.445291479030155,
          0.4447471654148876,
          2.4154141585183146,
          10.180825113808188,
          0.032773441230439106
         ],
         "yaxis": "y"
        },
        {
         "customdata": [
          [
           "M"
          ],
          [
           "M"
          ],
          [
           "M"
          ],
          [
           "F"
          ],
          [
           "M"
          ],
          [
           "F"
          ],
          [
           "M"
          ],
          [
           "F"
          ],
          [
           "F"
          ],
          [
           "F"
          ],
          [
           "F"
          ],
          [
           "F"
          ],
          [
           "M"
          ],
          [
           "F"
          ],
          [
           "F"
          ],
          [
           "M"
          ],
          [
           "M"
          ]
         ],
         "hovertemplate": "Cluster=Cluster 1<br>PCA1=%{x}<br>PCA2=%{y}<br>Feature=%{customdata[0]}<extra></extra>",
         "legendgroup": "Cluster 1",
         "marker": {
          "color": "#EF553B",
          "opacity": 0.5,
          "symbol": "circle"
         },
         "mode": "markers",
         "name": "Cluster 1",
         "orientation": "v",
         "showlegend": true,
         "textposition": "top center",
         "type": "scatter",
         "x": [
          4.837775106650332,
          5.173510629134519,
          6.206435602570153,
          5.586162103731126,
          6.338894572395824,
          5.726348336351514,
          5.274754095016571,
          6.626611210552587,
          4.2935096329210864,
          4.423699742838472,
          3.7944388572000394,
          4.681255711106907,
          6.975430503392021,
          3.3158600923924277,
          4.890305899066273,
          7.241345703276138,
          3.0039381893856674
         ],
         "xaxis": "x",
         "y": [
          -0.5417535705553159,
          -1.3693918793560214,
          -1.130089910396806,
          -2.1171194803421267,
          -1.2188973233179323,
          -1.9007857033196203,
          -1.128125708061327,
          -1.3907546484303055,
          1.176937326191119,
          0.08804688325459453,
          0.7834435374561838,
          -1.1316575787935124,
          -1.6230019070651174,
          -0.8873595561437246,
          -1.0713900613911855,
          -1.4257021877575897,
          -1.5735523221415164
         ],
         "yaxis": "y"
        },
        {
         "customdata": [
          [
           "M"
          ],
          [
           "F"
          ],
          [
           "M"
          ],
          [
           "F"
          ],
          [
           "M"
          ],
          [
           "F"
          ],
          [
           "M"
          ],
          [
           "F"
          ],
          [
           "M"
          ],
          [
           "F"
          ],
          [
           "M"
          ],
          [
           "M"
          ],
          [
           "F"
          ],
          [
           "F"
          ],
          [
           "M"
          ],
          [
           "M"
          ],
          [
           "M"
          ],
          [
           "M"
          ],
          [
           "F"
          ],
          [
           "M"
          ],
          [
           "M"
          ],
          [
           "F"
          ],
          [
           "M"
          ],
          [
           "F"
          ],
          [
           "F"
          ],
          [
           "F"
          ],
          [
           "F"
          ],
          [
           "M"
          ],
          [
           "M"
          ],
          [
           "M"
          ],
          [
           "M"
          ],
          [
           "F"
          ],
          [
           "F"
          ],
          [
           "M"
          ],
          [
           "F"
          ],
          [
           "M"
          ]
         ],
         "hovertemplate": "Cluster=Cluster 2<br>PCA1=%{x}<br>PCA2=%{y}<br>Feature=%{customdata[0]}<extra></extra>",
         "legendgroup": "Cluster 2",
         "marker": {
          "color": "#00cc96",
          "opacity": 0.5,
          "symbol": "circle"
         },
         "mode": "markers",
         "name": "Cluster 2",
         "orientation": "v",
         "showlegend": true,
         "textposition": "top center",
         "type": "scatter",
         "x": [
          -1.6384955038130953,
          -2.4644890500526704,
          -2.5923790539522398,
          -2.5493761586874055,
          -1.4310034642783034,
          -2.7106345322650975,
          -2.869090951422579,
          -3.1039202091488405,
          -1.3676102034513435,
          -2.3912379854995183,
          -2.584807903993919,
          -3.072154054361381,
          -2.8247633651792494,
          -3.6465252108336017,
          -4.886680719394765,
          -1.6003019550712323,
          -2.3937855570121367,
          -1.0564935376374438,
          -2.709452870071401,
          -2.95568013348828,
          -2.8444068220068353,
          -2.8248714176342555,
          -2.850740171412385,
          -1.9566343073918155,
          -3.506792349154412,
          -2.5414051084367237,
          -1.7635824691545383,
          -3.350321097005012,
          -0.2761240241628363,
          -1.3499344302694218,
          -2.406419681561371,
          -2.1758763120622007,
          -1.396500933520192,
          -1.3595746709403072,
          -3.234142606123035,
          -2.9751718867355574
         ],
         "xaxis": "x",
         "y": [
          1.2926057279202219,
          0.4114007162016093,
          0.7294308986348469,
          -0.1177977815514623,
          -1.8166569123051404,
          0.3371784014790439,
          -2.2972637737010047,
          -2.1891451921362037,
          1.106526857548774,
          0.7850636045685863,
          -1.1196830626352532,
          -2.257980440534652,
          -0.8807539164055637,
          -2.046798527123986,
          -4.64059462344211,
          1.5022299029620334,
          0.032788897226196094,
          0.7746131075277684,
          -0.4111460322484281,
          -2.0211419610163346,
          -0.501844489573479,
          -0.5443022678779794,
          -0.8627082518218256,
          -0.2705711361848647,
          -3.3285878916157734,
          -2.2280759199024565,
          -4.661035103397262,
          -0.9734645635813599,
          0.899966918440868,
          1.8976983184361844,
          0.5726808301604691,
          0.1389665566978631,
          1.6018707016878497,
          1.6759166011624826,
          -3.1926743408340976,
          -1.9851753085291668
         ],
         "yaxis": "y"
        }
       ],
       "layout": {
        "height": 600,
        "legend": {
         "title": {
          "text": "Cluster"
         },
         "tracegroupgap": 0
        },
        "margin": {
         "t": 60
        },
        "plot_bgcolor": "rgb(240,240,240)",
        "template": {
         "data": {
          "bar": [
           {
            "error_x": {
             "color": "#2a3f5f"
            },
            "error_y": {
             "color": "#2a3f5f"
            },
            "marker": {
             "line": {
              "color": "#E5ECF6",
              "width": 0.5
             },
             "pattern": {
              "fillmode": "overlay",
              "size": 10,
              "solidity": 0.2
             }
            },
            "type": "bar"
           }
          ],
          "barpolar": [
           {
            "marker": {
             "line": {
              "color": "#E5ECF6",
              "width": 0.5
             },
             "pattern": {
              "fillmode": "overlay",
              "size": 10,
              "solidity": 0.2
             }
            },
            "type": "barpolar"
           }
          ],
          "carpet": [
           {
            "aaxis": {
             "endlinecolor": "#2a3f5f",
             "gridcolor": "white",
             "linecolor": "white",
             "minorgridcolor": "white",
             "startlinecolor": "#2a3f5f"
            },
            "baxis": {
             "endlinecolor": "#2a3f5f",
             "gridcolor": "white",
             "linecolor": "white",
             "minorgridcolor": "white",
             "startlinecolor": "#2a3f5f"
            },
            "type": "carpet"
           }
          ],
          "choropleth": [
           {
            "colorbar": {
             "outlinewidth": 0,
             "ticks": ""
            },
            "type": "choropleth"
           }
          ],
          "contour": [
           {
            "colorbar": {
             "outlinewidth": 0,
             "ticks": ""
            },
            "colorscale": [
             [
              0,
              "#0d0887"
             ],
             [
              0.1111111111111111,
              "#46039f"
             ],
             [
              0.2222222222222222,
              "#7201a8"
             ],
             [
              0.3333333333333333,
              "#9c179e"
             ],
             [
              0.4444444444444444,
              "#bd3786"
             ],
             [
              0.5555555555555556,
              "#d8576b"
             ],
             [
              0.6666666666666666,
              "#ed7953"
             ],
             [
              0.7777777777777778,
              "#fb9f3a"
             ],
             [
              0.8888888888888888,
              "#fdca26"
             ],
             [
              1,
              "#f0f921"
             ]
            ],
            "type": "contour"
           }
          ],
          "contourcarpet": [
           {
            "colorbar": {
             "outlinewidth": 0,
             "ticks": ""
            },
            "type": "contourcarpet"
           }
          ],
          "heatmap": [
           {
            "colorbar": {
             "outlinewidth": 0,
             "ticks": ""
            },
            "colorscale": [
             [
              0,
              "#0d0887"
             ],
             [
              0.1111111111111111,
              "#46039f"
             ],
             [
              0.2222222222222222,
              "#7201a8"
             ],
             [
              0.3333333333333333,
              "#9c179e"
             ],
             [
              0.4444444444444444,
              "#bd3786"
             ],
             [
              0.5555555555555556,
              "#d8576b"
             ],
             [
              0.6666666666666666,
              "#ed7953"
             ],
             [
              0.7777777777777778,
              "#fb9f3a"
             ],
             [
              0.8888888888888888,
              "#fdca26"
             ],
             [
              1,
              "#f0f921"
             ]
            ],
            "type": "heatmap"
           }
          ],
          "heatmapgl": [
           {
            "colorbar": {
             "outlinewidth": 0,
             "ticks": ""
            },
            "colorscale": [
             [
              0,
              "#0d0887"
             ],
             [
              0.1111111111111111,
              "#46039f"
             ],
             [
              0.2222222222222222,
              "#7201a8"
             ],
             [
              0.3333333333333333,
              "#9c179e"
             ],
             [
              0.4444444444444444,
              "#bd3786"
             ],
             [
              0.5555555555555556,
              "#d8576b"
             ],
             [
              0.6666666666666666,
              "#ed7953"
             ],
             [
              0.7777777777777778,
              "#fb9f3a"
             ],
             [
              0.8888888888888888,
              "#fdca26"
             ],
             [
              1,
              "#f0f921"
             ]
            ],
            "type": "heatmapgl"
           }
          ],
          "histogram": [
           {
            "marker": {
             "pattern": {
              "fillmode": "overlay",
              "size": 10,
              "solidity": 0.2
             }
            },
            "type": "histogram"
           }
          ],
          "histogram2d": [
           {
            "colorbar": {
             "outlinewidth": 0,
             "ticks": ""
            },
            "colorscale": [
             [
              0,
              "#0d0887"
             ],
             [
              0.1111111111111111,
              "#46039f"
             ],
             [
              0.2222222222222222,
              "#7201a8"
             ],
             [
              0.3333333333333333,
              "#9c179e"
             ],
             [
              0.4444444444444444,
              "#bd3786"
             ],
             [
              0.5555555555555556,
              "#d8576b"
             ],
             [
              0.6666666666666666,
              "#ed7953"
             ],
             [
              0.7777777777777778,
              "#fb9f3a"
             ],
             [
              0.8888888888888888,
              "#fdca26"
             ],
             [
              1,
              "#f0f921"
             ]
            ],
            "type": "histogram2d"
           }
          ],
          "histogram2dcontour": [
           {
            "colorbar": {
             "outlinewidth": 0,
             "ticks": ""
            },
            "colorscale": [
             [
              0,
              "#0d0887"
             ],
             [
              0.1111111111111111,
              "#46039f"
             ],
             [
              0.2222222222222222,
              "#7201a8"
             ],
             [
              0.3333333333333333,
              "#9c179e"
             ],
             [
              0.4444444444444444,
              "#bd3786"
             ],
             [
              0.5555555555555556,
              "#d8576b"
             ],
             [
              0.6666666666666666,
              "#ed7953"
             ],
             [
              0.7777777777777778,
              "#fb9f3a"
             ],
             [
              0.8888888888888888,
              "#fdca26"
             ],
             [
              1,
              "#f0f921"
             ]
            ],
            "type": "histogram2dcontour"
           }
          ],
          "mesh3d": [
           {
            "colorbar": {
             "outlinewidth": 0,
             "ticks": ""
            },
            "type": "mesh3d"
           }
          ],
          "parcoords": [
           {
            "line": {
             "colorbar": {
              "outlinewidth": 0,
              "ticks": ""
             }
            },
            "type": "parcoords"
           }
          ],
          "pie": [
           {
            "automargin": true,
            "type": "pie"
           }
          ],
          "scatter": [
           {
            "fillpattern": {
             "fillmode": "overlay",
             "size": 10,
             "solidity": 0.2
            },
            "type": "scatter"
           }
          ],
          "scatter3d": [
           {
            "line": {
             "colorbar": {
              "outlinewidth": 0,
              "ticks": ""
             }
            },
            "marker": {
             "colorbar": {
              "outlinewidth": 0,
              "ticks": ""
             }
            },
            "type": "scatter3d"
           }
          ],
          "scattercarpet": [
           {
            "marker": {
             "colorbar": {
              "outlinewidth": 0,
              "ticks": ""
             }
            },
            "type": "scattercarpet"
           }
          ],
          "scattergeo": [
           {
            "marker": {
             "colorbar": {
              "outlinewidth": 0,
              "ticks": ""
             }
            },
            "type": "scattergeo"
           }
          ],
          "scattergl": [
           {
            "marker": {
             "colorbar": {
              "outlinewidth": 0,
              "ticks": ""
             }
            },
            "type": "scattergl"
           }
          ],
          "scattermapbox": [
           {
            "marker": {
             "colorbar": {
              "outlinewidth": 0,
              "ticks": ""
             }
            },
            "type": "scattermapbox"
           }
          ],
          "scatterpolar": [
           {
            "marker": {
             "colorbar": {
              "outlinewidth": 0,
              "ticks": ""
             }
            },
            "type": "scatterpolar"
           }
          ],
          "scatterpolargl": [
           {
            "marker": {
             "colorbar": {
              "outlinewidth": 0,
              "ticks": ""
             }
            },
            "type": "scatterpolargl"
           }
          ],
          "scatterternary": [
           {
            "marker": {
             "colorbar": {
              "outlinewidth": 0,
              "ticks": ""
             }
            },
            "type": "scatterternary"
           }
          ],
          "surface": [
           {
            "colorbar": {
             "outlinewidth": 0,
             "ticks": ""
            },
            "colorscale": [
             [
              0,
              "#0d0887"
             ],
             [
              0.1111111111111111,
              "#46039f"
             ],
             [
              0.2222222222222222,
              "#7201a8"
             ],
             [
              0.3333333333333333,
              "#9c179e"
             ],
             [
              0.4444444444444444,
              "#bd3786"
             ],
             [
              0.5555555555555556,
              "#d8576b"
             ],
             [
              0.6666666666666666,
              "#ed7953"
             ],
             [
              0.7777777777777778,
              "#fb9f3a"
             ],
             [
              0.8888888888888888,
              "#fdca26"
             ],
             [
              1,
              "#f0f921"
             ]
            ],
            "type": "surface"
           }
          ],
          "table": [
           {
            "cells": {
             "fill": {
              "color": "#EBF0F8"
             },
             "line": {
              "color": "white"
             }
            },
            "header": {
             "fill": {
              "color": "#C8D4E3"
             },
             "line": {
              "color": "white"
             }
            },
            "type": "table"
           }
          ]
         },
         "layout": {
          "annotationdefaults": {
           "arrowcolor": "#2a3f5f",
           "arrowhead": 0,
           "arrowwidth": 1
          },
          "autotypenumbers": "strict",
          "coloraxis": {
           "colorbar": {
            "outlinewidth": 0,
            "ticks": ""
           }
          },
          "colorscale": {
           "diverging": [
            [
             0,
             "#8e0152"
            ],
            [
             0.1,
             "#c51b7d"
            ],
            [
             0.2,
             "#de77ae"
            ],
            [
             0.3,
             "#f1b6da"
            ],
            [
             0.4,
             "#fde0ef"
            ],
            [
             0.5,
             "#f7f7f7"
            ],
            [
             0.6,
             "#e6f5d0"
            ],
            [
             0.7,
             "#b8e186"
            ],
            [
             0.8,
             "#7fbc41"
            ],
            [
             0.9,
             "#4d9221"
            ],
            [
             1,
             "#276419"
            ]
           ],
           "sequential": [
            [
             0,
             "#0d0887"
            ],
            [
             0.1111111111111111,
             "#46039f"
            ],
            [
             0.2222222222222222,
             "#7201a8"
            ],
            [
             0.3333333333333333,
             "#9c179e"
            ],
            [
             0.4444444444444444,
             "#bd3786"
            ],
            [
             0.5555555555555556,
             "#d8576b"
            ],
            [
             0.6666666666666666,
             "#ed7953"
            ],
            [
             0.7777777777777778,
             "#fb9f3a"
            ],
            [
             0.8888888888888888,
             "#fdca26"
            ],
            [
             1,
             "#f0f921"
            ]
           ],
           "sequentialminus": [
            [
             0,
             "#0d0887"
            ],
            [
             0.1111111111111111,
             "#46039f"
            ],
            [
             0.2222222222222222,
             "#7201a8"
            ],
            [
             0.3333333333333333,
             "#9c179e"
            ],
            [
             0.4444444444444444,
             "#bd3786"
            ],
            [
             0.5555555555555556,
             "#d8576b"
            ],
            [
             0.6666666666666666,
             "#ed7953"
            ],
            [
             0.7777777777777778,
             "#fb9f3a"
            ],
            [
             0.8888888888888888,
             "#fdca26"
            ],
            [
             1,
             "#f0f921"
            ]
           ]
          },
          "colorway": [
           "#636efa",
           "#EF553B",
           "#00cc96",
           "#ab63fa",
           "#FFA15A",
           "#19d3f3",
           "#FF6692",
           "#B6E880",
           "#FF97FF",
           "#FECB52"
          ],
          "font": {
           "color": "#2a3f5f"
          },
          "geo": {
           "bgcolor": "white",
           "lakecolor": "white",
           "landcolor": "#E5ECF6",
           "showlakes": true,
           "showland": true,
           "subunitcolor": "white"
          },
          "hoverlabel": {
           "align": "left"
          },
          "hovermode": "closest",
          "mapbox": {
           "style": "light"
          },
          "paper_bgcolor": "white",
          "plot_bgcolor": "#E5ECF6",
          "polar": {
           "angularaxis": {
            "gridcolor": "white",
            "linecolor": "white",
            "ticks": ""
           },
           "bgcolor": "#E5ECF6",
           "radialaxis": {
            "gridcolor": "white",
            "linecolor": "white",
            "ticks": ""
           }
          },
          "scene": {
           "xaxis": {
            "backgroundcolor": "#E5ECF6",
            "gridcolor": "white",
            "gridwidth": 2,
            "linecolor": "white",
            "showbackground": true,
            "ticks": "",
            "zerolinecolor": "white"
           },
           "yaxis": {
            "backgroundcolor": "#E5ECF6",
            "gridcolor": "white",
            "gridwidth": 2,
            "linecolor": "white",
            "showbackground": true,
            "ticks": "",
            "zerolinecolor": "white"
           },
           "zaxis": {
            "backgroundcolor": "#E5ECF6",
            "gridcolor": "white",
            "gridwidth": 2,
            "linecolor": "white",
            "showbackground": true,
            "ticks": "",
            "zerolinecolor": "white"
           }
          },
          "shapedefaults": {
           "line": {
            "color": "#2a3f5f"
           }
          },
          "ternary": {
           "aaxis": {
            "gridcolor": "white",
            "linecolor": "white",
            "ticks": ""
           },
           "baxis": {
            "gridcolor": "white",
            "linecolor": "white",
            "ticks": ""
           },
           "bgcolor": "#E5ECF6",
           "caxis": {
            "gridcolor": "white",
            "linecolor": "white",
            "ticks": ""
           }
          },
          "title": {
           "x": 0.05
          },
          "xaxis": {
           "automargin": true,
           "gridcolor": "white",
           "linecolor": "white",
           "ticks": "",
           "title": {
            "standoff": 15
           },
           "zerolinecolor": "white",
           "zerolinewidth": 2
          },
          "yaxis": {
           "automargin": true,
           "gridcolor": "white",
           "linecolor": "white",
           "ticks": "",
           "title": {
            "standoff": 15
           },
           "zerolinecolor": "white",
           "zerolinewidth": 2
          }
         }
        },
        "title": {
         "text": "2D Cluster PCA Plot"
        },
        "xaxis": {
         "anchor": "y",
         "domain": [
          0,
          1
         ],
         "title": {
          "text": "PCA1"
         }
        },
        "yaxis": {
         "anchor": "x",
         "domain": [
          0,
          1
         ],
         "title": {
          "text": "PCA2"
         }
        }
       }
      }
     },
     "metadata": {},
     "output_type": "display_data"
    }
   ],
   "source": [
    "plot_model(hierarchicalModel,plot='cluster')"
   ]
  },
  {
   "cell_type": "code",
   "execution_count": 13,
   "metadata": {},
   "outputs": [],
   "source": [
    "kMeanClusteringParameters = setup(data,transformation = True, pca = True, transformation_method = 'yeo-johnson',pca_method = 'linear', normalize = True,normalize_method='zscore', verbose=False)\n",
    "\n",
    "\n"
   ]
  },
  {
   "cell_type": "markdown",
   "metadata": {},
   "source": [
    "### BIRCH"
   ]
  },
  {
   "cell_type": "code",
   "execution_count": 15,
   "metadata": {},
   "outputs": [
    {
     "data": {
      "text/html": [],
      "text/plain": [
       "<IPython.core.display.HTML object>"
      ]
     },
     "metadata": {},
     "output_type": "display_data"
    },
    {
     "data": {
      "text/html": [
       "<style type=\"text/css\">\n",
       "</style>\n",
       "<table id=\"T_b8ccb\">\n",
       "  <thead>\n",
       "    <tr>\n",
       "      <th class=\"blank level0\" >&nbsp;</th>\n",
       "      <th id=\"T_b8ccb_level0_col0\" class=\"col_heading level0 col0\" >Silhouette</th>\n",
       "      <th id=\"T_b8ccb_level0_col1\" class=\"col_heading level0 col1\" >Calinski-Harabasz</th>\n",
       "      <th id=\"T_b8ccb_level0_col2\" class=\"col_heading level0 col2\" >Davies-Bouldin</th>\n",
       "      <th id=\"T_b8ccb_level0_col3\" class=\"col_heading level0 col3\" >Homogeneity</th>\n",
       "      <th id=\"T_b8ccb_level0_col4\" class=\"col_heading level0 col4\" >Rand Index</th>\n",
       "      <th id=\"T_b8ccb_level0_col5\" class=\"col_heading level0 col5\" >Completeness</th>\n",
       "    </tr>\n",
       "  </thead>\n",
       "  <tbody>\n",
       "    <tr>\n",
       "      <th id=\"T_b8ccb_level0_row0\" class=\"row_heading level0 row0\" >0</th>\n",
       "      <td id=\"T_b8ccb_row0_col0\" class=\"data row0 col0\" >0.0928</td>\n",
       "      <td id=\"T_b8ccb_row0_col1\" class=\"data row0 col1\" >6.2755</td>\n",
       "      <td id=\"T_b8ccb_row0_col2\" class=\"data row0 col2\" >2.3839</td>\n",
       "      <td id=\"T_b8ccb_row0_col3\" class=\"data row0 col3\" >0</td>\n",
       "      <td id=\"T_b8ccb_row0_col4\" class=\"data row0 col4\" >0</td>\n",
       "      <td id=\"T_b8ccb_row0_col5\" class=\"data row0 col5\" >0</td>\n",
       "    </tr>\n",
       "  </tbody>\n",
       "</table>\n"
      ],
      "text/plain": [
       "<pandas.io.formats.style.Styler at 0x1d59e5d3e90>"
      ]
     },
     "metadata": {},
     "output_type": "display_data"
    },
    {
     "data": {
      "text/html": [],
      "text/plain": [
       "<IPython.core.display.HTML object>"
      ]
     },
     "metadata": {},
     "output_type": "display_data"
    },
    {
     "data": {
      "text/html": [],
      "text/plain": [
       "<IPython.core.display.HTML object>"
      ]
     },
     "metadata": {},
     "output_type": "display_data"
    },
    {
     "data": {
      "application/vnd.plotly.v1+json": {
       "config": {
        "plotlyServerURL": "https://plot.ly"
       },
       "data": [
        {
         "customdata": [
          [
           "M"
          ],
          [
           "M"
          ],
          [
           "M"
          ],
          [
           "F"
          ],
          [
           "F"
          ],
          [
           "M"
          ],
          [
           "M"
          ],
          [
           "M"
          ],
          [
           "F"
          ],
          [
           "M"
          ],
          [
           "F"
          ],
          [
           "M"
          ],
          [
           "M"
          ],
          [
           "F"
          ],
          [
           "M"
          ],
          [
           "F"
          ],
          [
           "F"
          ],
          [
           "F"
          ],
          [
           "M"
          ],
          [
           "M"
          ],
          [
           "F"
          ],
          [
           "M"
          ],
          [
           "F"
          ],
          [
           "M"
          ],
          [
           "M"
          ],
          [
           "F"
          ],
          [
           "F"
          ],
          [
           "F"
          ],
          [
           "M"
          ],
          [
           "M"
          ],
          [
           "F"
          ],
          [
           "F"
          ],
          [
           "M"
          ],
          [
           "M"
          ],
          [
           "M"
          ],
          [
           "F"
          ]
         ],
         "hovertemplate": "Cluster=Cluster 0<br>PCA1=%{x}<br>PCA2=%{y}<br>Feature=%{customdata[0]}<extra></extra>",
         "legendgroup": "Cluster 0",
         "marker": {
          "color": "#636efa",
          "opacity": 0.5,
          "symbol": "circle"
         },
         "mode": "markers",
         "name": "Cluster 0",
         "orientation": "v",
         "showlegend": true,
         "textposition": "top center",
         "type": "scatter",
         "x": [
          -2.9505318428889087,
          -1.4325428996249006,
          -2.4861349783895514,
          -2.8010946582312166,
          -2.1616102274572957,
          -2.4719836774161967,
          -1.452559032985537,
          -3.3961870943429306,
          -3.5996037650161115,
          -2.9683958706517677,
          -3.314852577034108,
          -1.654721530146061,
          -2.9182789859952756,
          -2.9052201447961368,
          -2.941374000018347,
          -2.0433299190703456,
          -2.581154349136895,
          -1.6764896004133092,
          -0.18677028909710705,
          -0.8513095661259926,
          -2.451135535037616,
          -2.5731168688933623,
          -3.1986063974692613,
          -1.5080837981918906,
          -4.813592677942609,
          -2.5465997588822264,
          -3.7224105914849863,
          -2.8208499411413164,
          -3.163398215937273,
          -2.6519950406347363,
          -2.467587922083167,
          -1.4663707673438497,
          -1.6292940308185053,
          -1.2939971460141044,
          -2.9313693269206174,
          -2.788256712515476
         ],
         "xaxis": "x",
         "y": [
          -1.9294295272076796,
          1.5981673716385127,
          -0.049073993235972085,
          -0.518219519922312,
          0.11377784779579583,
          0.46879105883144945,
          1.9111243845208628,
          -0.9506124992205185,
          -3.280072172263035,
          -1.9662889784986466,
          -3.1253879896769896,
          1.2634442256590674,
          -0.5766166617718523,
          -0.6227753180009226,
          -0.8445584898459543,
          -0.36583743051094264,
          -2.215972463914061,
          -4.359348544266242,
          0.9234442374165155,
          0.7934415826145432,
          0.3432725561292878,
          0.6619055194454742,
          -2.221826111924355,
          -1.8778121973304096,
          -4.3574813371997765,
          -0.17099782954934006,
          -1.9515120875699246,
          -0.9124161196114753,
          -2.2121685777854236,
          -0.9404987072443806,
          0.7333193249003803,
          1.5292592104310452,
          1.5078390586138541,
          1.1890018752588078,
          -2.319107691705308,
          0.24420111243005446
         ],
         "yaxis": "y"
        },
        {
         "customdata": [
          [
           "F"
          ],
          [
           "M"
          ],
          [
           "M"
          ],
          [
           "F"
          ],
          [
           "F"
          ],
          [
           "M"
          ],
          [
           "F"
          ],
          [
           "M"
          ],
          [
           "F"
          ],
          [
           "F"
          ],
          [
           "M"
          ],
          [
           "F"
          ],
          [
           "M"
          ],
          [
           "F"
          ],
          [
           "F"
          ],
          [
           "M"
          ],
          [
           "M"
          ]
         ],
         "hovertemplate": "Cluster=Cluster 1<br>PCA1=%{x}<br>PCA2=%{y}<br>Feature=%{customdata[0]}<extra></extra>",
         "legendgroup": "Cluster 1",
         "marker": {
          "color": "#EF553B",
          "opacity": 0.5,
          "symbol": "circle"
         },
         "mode": "markers",
         "name": "Cluster 1",
         "orientation": "v",
         "showlegend": true,
         "textposition": "top center",
         "type": "scatter",
         "x": [
          3.4611685793741467,
          6.769532513387655,
          5.120536342640456,
          4.585374809396073,
          3.983888553075733,
          4.9782981738603835,
          4.50304285950403,
          6.459095040373295,
          6.345430483686394,
          5.305340683718972,
          6.16135872388419,
          5.54542817893091,
          5.242612803787548,
          4.6383630242698395,
          5.028737152007255,
          2.963016529342773,
          7.110090206413986
         ],
         "xaxis": "x",
         "y": [
          -0.9815595782776996,
          -1.6632287816238571,
          -1.4116894357071545,
          -1.0973724441364272,
          0.6905623255245112,
          -0.6871524677645061,
          1.0893510633107615,
          -1.395107372207641,
          -1.4060967894634393,
          -2.0472252369371033,
          -1.2961431540615758,
          -1.9940879814346735,
          -1.1079183315393417,
          -0.0937195965973535,
          -1.2514658269980723,
          -1.5201497421342651,
          -1.5783198992983565
         ],
         "yaxis": "y"
        },
        {
         "customdata": [
          [
           "M"
          ],
          [
           "F"
          ],
          [
           "M"
          ],
          [
           "M"
          ],
          [
           "F"
          ],
          [
           "M"
          ],
          [
           "M"
          ],
          [
           "F"
          ],
          [
           "F"
          ],
          [
           "F"
          ],
          [
           "F"
          ],
          [
           "F"
          ],
          [
           "F"
          ],
          [
           "F"
          ],
          [
           "F"
          ],
          [
           "F"
          ],
          [
           "M"
          ],
          [
           "F"
          ],
          [
           "F"
          ]
         ],
         "hovertemplate": "Cluster=Cluster 2<br>PCA1=%{x}<br>PCA2=%{y}<br>Feature=%{customdata[0]}<extra></extra>",
         "legendgroup": "Cluster 2",
         "marker": {
          "color": "#00cc96",
          "opacity": 0.5,
          "symbol": "circle"
         },
         "mode": "markers",
         "name": "Cluster 2",
         "orientation": "v",
         "showlegend": true,
         "textposition": "top center",
         "type": "scatter",
         "x": [
          3.0072618764648187,
          2.0826537575159123,
          1.8608621406525483,
          2.0022258894222738,
          -2.7333599950085468,
          -0.716805486253323,
          -2.3493483893528047,
          0.6259968188635201,
          0.13219813424372945,
          -1.3818299909486282,
          -1.9288678345986847,
          -1.8255104090283039,
          -2.9582243262447303,
          1.0903836564168752,
          0.09224641190448118,
          1.305042614751121,
          1.7660423396359104,
          -0.7640744674158813,
          2.9618164172908914
         ],
         "xaxis": "x",
         "y": [
          1.2407036627942274,
          2.565951430519197,
          0.49561801113426474,
          4.559400558182681,
          1.8347348687924323,
          1.5954355334272057,
          2.5450979803850213,
          2.5700476591174013,
          0.9543402441779639,
          -0.050177121945862074,
          0.3392506781056224,
          3.4001187730573363,
          -0.0002919243042248555,
          1.4144105795786042,
          1.1416590615221376,
          1.4631105176620798,
          2.508059013917877,
          -0.2943277352527775,
          3.60171059311365
         ],
         "yaxis": "y"
        },
        {
         "customdata": [
          [
           "M"
          ]
         ],
         "hovertemplate": "Cluster=Cluster 3<br>PCA1=%{x}<br>PCA2=%{y}<br>Feature=%{customdata[0]}<extra></extra>",
         "legendgroup": "Cluster 3",
         "marker": {
          "color": "#ab63fa",
          "opacity": 0.5,
          "symbol": "circle"
         },
         "mode": "markers",
         "name": "Cluster 3",
         "orientation": "v",
         "showlegend": true,
         "textposition": "top center",
         "type": "scatter",
         "x": [
          -1.6492140758158313
         ],
         "xaxis": "x",
         "y": [
          10.35349574793122
         ],
         "yaxis": "y"
        }
       ],
       "layout": {
        "height": 600,
        "legend": {
         "title": {
          "text": "Cluster"
         },
         "tracegroupgap": 0
        },
        "margin": {
         "t": 60
        },
        "plot_bgcolor": "rgb(240,240,240)",
        "template": {
         "data": {
          "bar": [
           {
            "error_x": {
             "color": "#2a3f5f"
            },
            "error_y": {
             "color": "#2a3f5f"
            },
            "marker": {
             "line": {
              "color": "#E5ECF6",
              "width": 0.5
             },
             "pattern": {
              "fillmode": "overlay",
              "size": 10,
              "solidity": 0.2
             }
            },
            "type": "bar"
           }
          ],
          "barpolar": [
           {
            "marker": {
             "line": {
              "color": "#E5ECF6",
              "width": 0.5
             },
             "pattern": {
              "fillmode": "overlay",
              "size": 10,
              "solidity": 0.2
             }
            },
            "type": "barpolar"
           }
          ],
          "carpet": [
           {
            "aaxis": {
             "endlinecolor": "#2a3f5f",
             "gridcolor": "white",
             "linecolor": "white",
             "minorgridcolor": "white",
             "startlinecolor": "#2a3f5f"
            },
            "baxis": {
             "endlinecolor": "#2a3f5f",
             "gridcolor": "white",
             "linecolor": "white",
             "minorgridcolor": "white",
             "startlinecolor": "#2a3f5f"
            },
            "type": "carpet"
           }
          ],
          "choropleth": [
           {
            "colorbar": {
             "outlinewidth": 0,
             "ticks": ""
            },
            "type": "choropleth"
           }
          ],
          "contour": [
           {
            "colorbar": {
             "outlinewidth": 0,
             "ticks": ""
            },
            "colorscale": [
             [
              0,
              "#0d0887"
             ],
             [
              0.1111111111111111,
              "#46039f"
             ],
             [
              0.2222222222222222,
              "#7201a8"
             ],
             [
              0.3333333333333333,
              "#9c179e"
             ],
             [
              0.4444444444444444,
              "#bd3786"
             ],
             [
              0.5555555555555556,
              "#d8576b"
             ],
             [
              0.6666666666666666,
              "#ed7953"
             ],
             [
              0.7777777777777778,
              "#fb9f3a"
             ],
             [
              0.8888888888888888,
              "#fdca26"
             ],
             [
              1,
              "#f0f921"
             ]
            ],
            "type": "contour"
           }
          ],
          "contourcarpet": [
           {
            "colorbar": {
             "outlinewidth": 0,
             "ticks": ""
            },
            "type": "contourcarpet"
           }
          ],
          "heatmap": [
           {
            "colorbar": {
             "outlinewidth": 0,
             "ticks": ""
            },
            "colorscale": [
             [
              0,
              "#0d0887"
             ],
             [
              0.1111111111111111,
              "#46039f"
             ],
             [
              0.2222222222222222,
              "#7201a8"
             ],
             [
              0.3333333333333333,
              "#9c179e"
             ],
             [
              0.4444444444444444,
              "#bd3786"
             ],
             [
              0.5555555555555556,
              "#d8576b"
             ],
             [
              0.6666666666666666,
              "#ed7953"
             ],
             [
              0.7777777777777778,
              "#fb9f3a"
             ],
             [
              0.8888888888888888,
              "#fdca26"
             ],
             [
              1,
              "#f0f921"
             ]
            ],
            "type": "heatmap"
           }
          ],
          "heatmapgl": [
           {
            "colorbar": {
             "outlinewidth": 0,
             "ticks": ""
            },
            "colorscale": [
             [
              0,
              "#0d0887"
             ],
             [
              0.1111111111111111,
              "#46039f"
             ],
             [
              0.2222222222222222,
              "#7201a8"
             ],
             [
              0.3333333333333333,
              "#9c179e"
             ],
             [
              0.4444444444444444,
              "#bd3786"
             ],
             [
              0.5555555555555556,
              "#d8576b"
             ],
             [
              0.6666666666666666,
              "#ed7953"
             ],
             [
              0.7777777777777778,
              "#fb9f3a"
             ],
             [
              0.8888888888888888,
              "#fdca26"
             ],
             [
              1,
              "#f0f921"
             ]
            ],
            "type": "heatmapgl"
           }
          ],
          "histogram": [
           {
            "marker": {
             "pattern": {
              "fillmode": "overlay",
              "size": 10,
              "solidity": 0.2
             }
            },
            "type": "histogram"
           }
          ],
          "histogram2d": [
           {
            "colorbar": {
             "outlinewidth": 0,
             "ticks": ""
            },
            "colorscale": [
             [
              0,
              "#0d0887"
             ],
             [
              0.1111111111111111,
              "#46039f"
             ],
             [
              0.2222222222222222,
              "#7201a8"
             ],
             [
              0.3333333333333333,
              "#9c179e"
             ],
             [
              0.4444444444444444,
              "#bd3786"
             ],
             [
              0.5555555555555556,
              "#d8576b"
             ],
             [
              0.6666666666666666,
              "#ed7953"
             ],
             [
              0.7777777777777778,
              "#fb9f3a"
             ],
             [
              0.8888888888888888,
              "#fdca26"
             ],
             [
              1,
              "#f0f921"
             ]
            ],
            "type": "histogram2d"
           }
          ],
          "histogram2dcontour": [
           {
            "colorbar": {
             "outlinewidth": 0,
             "ticks": ""
            },
            "colorscale": [
             [
              0,
              "#0d0887"
             ],
             [
              0.1111111111111111,
              "#46039f"
             ],
             [
              0.2222222222222222,
              "#7201a8"
             ],
             [
              0.3333333333333333,
              "#9c179e"
             ],
             [
              0.4444444444444444,
              "#bd3786"
             ],
             [
              0.5555555555555556,
              "#d8576b"
             ],
             [
              0.6666666666666666,
              "#ed7953"
             ],
             [
              0.7777777777777778,
              "#fb9f3a"
             ],
             [
              0.8888888888888888,
              "#fdca26"
             ],
             [
              1,
              "#f0f921"
             ]
            ],
            "type": "histogram2dcontour"
           }
          ],
          "mesh3d": [
           {
            "colorbar": {
             "outlinewidth": 0,
             "ticks": ""
            },
            "type": "mesh3d"
           }
          ],
          "parcoords": [
           {
            "line": {
             "colorbar": {
              "outlinewidth": 0,
              "ticks": ""
             }
            },
            "type": "parcoords"
           }
          ],
          "pie": [
           {
            "automargin": true,
            "type": "pie"
           }
          ],
          "scatter": [
           {
            "fillpattern": {
             "fillmode": "overlay",
             "size": 10,
             "solidity": 0.2
            },
            "type": "scatter"
           }
          ],
          "scatter3d": [
           {
            "line": {
             "colorbar": {
              "outlinewidth": 0,
              "ticks": ""
             }
            },
            "marker": {
             "colorbar": {
              "outlinewidth": 0,
              "ticks": ""
             }
            },
            "type": "scatter3d"
           }
          ],
          "scattercarpet": [
           {
            "marker": {
             "colorbar": {
              "outlinewidth": 0,
              "ticks": ""
             }
            },
            "type": "scattercarpet"
           }
          ],
          "scattergeo": [
           {
            "marker": {
             "colorbar": {
              "outlinewidth": 0,
              "ticks": ""
             }
            },
            "type": "scattergeo"
           }
          ],
          "scattergl": [
           {
            "marker": {
             "colorbar": {
              "outlinewidth": 0,
              "ticks": ""
             }
            },
            "type": "scattergl"
           }
          ],
          "scattermapbox": [
           {
            "marker": {
             "colorbar": {
              "outlinewidth": 0,
              "ticks": ""
             }
            },
            "type": "scattermapbox"
           }
          ],
          "scatterpolar": [
           {
            "marker": {
             "colorbar": {
              "outlinewidth": 0,
              "ticks": ""
             }
            },
            "type": "scatterpolar"
           }
          ],
          "scatterpolargl": [
           {
            "marker": {
             "colorbar": {
              "outlinewidth": 0,
              "ticks": ""
             }
            },
            "type": "scatterpolargl"
           }
          ],
          "scatterternary": [
           {
            "marker": {
             "colorbar": {
              "outlinewidth": 0,
              "ticks": ""
             }
            },
            "type": "scatterternary"
           }
          ],
          "surface": [
           {
            "colorbar": {
             "outlinewidth": 0,
             "ticks": ""
            },
            "colorscale": [
             [
              0,
              "#0d0887"
             ],
             [
              0.1111111111111111,
              "#46039f"
             ],
             [
              0.2222222222222222,
              "#7201a8"
             ],
             [
              0.3333333333333333,
              "#9c179e"
             ],
             [
              0.4444444444444444,
              "#bd3786"
             ],
             [
              0.5555555555555556,
              "#d8576b"
             ],
             [
              0.6666666666666666,
              "#ed7953"
             ],
             [
              0.7777777777777778,
              "#fb9f3a"
             ],
             [
              0.8888888888888888,
              "#fdca26"
             ],
             [
              1,
              "#f0f921"
             ]
            ],
            "type": "surface"
           }
          ],
          "table": [
           {
            "cells": {
             "fill": {
              "color": "#EBF0F8"
             },
             "line": {
              "color": "white"
             }
            },
            "header": {
             "fill": {
              "color": "#C8D4E3"
             },
             "line": {
              "color": "white"
             }
            },
            "type": "table"
           }
          ]
         },
         "layout": {
          "annotationdefaults": {
           "arrowcolor": "#2a3f5f",
           "arrowhead": 0,
           "arrowwidth": 1
          },
          "autotypenumbers": "strict",
          "coloraxis": {
           "colorbar": {
            "outlinewidth": 0,
            "ticks": ""
           }
          },
          "colorscale": {
           "diverging": [
            [
             0,
             "#8e0152"
            ],
            [
             0.1,
             "#c51b7d"
            ],
            [
             0.2,
             "#de77ae"
            ],
            [
             0.3,
             "#f1b6da"
            ],
            [
             0.4,
             "#fde0ef"
            ],
            [
             0.5,
             "#f7f7f7"
            ],
            [
             0.6,
             "#e6f5d0"
            ],
            [
             0.7,
             "#b8e186"
            ],
            [
             0.8,
             "#7fbc41"
            ],
            [
             0.9,
             "#4d9221"
            ],
            [
             1,
             "#276419"
            ]
           ],
           "sequential": [
            [
             0,
             "#0d0887"
            ],
            [
             0.1111111111111111,
             "#46039f"
            ],
            [
             0.2222222222222222,
             "#7201a8"
            ],
            [
             0.3333333333333333,
             "#9c179e"
            ],
            [
             0.4444444444444444,
             "#bd3786"
            ],
            [
             0.5555555555555556,
             "#d8576b"
            ],
            [
             0.6666666666666666,
             "#ed7953"
            ],
            [
             0.7777777777777778,
             "#fb9f3a"
            ],
            [
             0.8888888888888888,
             "#fdca26"
            ],
            [
             1,
             "#f0f921"
            ]
           ],
           "sequentialminus": [
            [
             0,
             "#0d0887"
            ],
            [
             0.1111111111111111,
             "#46039f"
            ],
            [
             0.2222222222222222,
             "#7201a8"
            ],
            [
             0.3333333333333333,
             "#9c179e"
            ],
            [
             0.4444444444444444,
             "#bd3786"
            ],
            [
             0.5555555555555556,
             "#d8576b"
            ],
            [
             0.6666666666666666,
             "#ed7953"
            ],
            [
             0.7777777777777778,
             "#fb9f3a"
            ],
            [
             0.8888888888888888,
             "#fdca26"
            ],
            [
             1,
             "#f0f921"
            ]
           ]
          },
          "colorway": [
           "#636efa",
           "#EF553B",
           "#00cc96",
           "#ab63fa",
           "#FFA15A",
           "#19d3f3",
           "#FF6692",
           "#B6E880",
           "#FF97FF",
           "#FECB52"
          ],
          "font": {
           "color": "#2a3f5f"
          },
          "geo": {
           "bgcolor": "white",
           "lakecolor": "white",
           "landcolor": "#E5ECF6",
           "showlakes": true,
           "showland": true,
           "subunitcolor": "white"
          },
          "hoverlabel": {
           "align": "left"
          },
          "hovermode": "closest",
          "mapbox": {
           "style": "light"
          },
          "paper_bgcolor": "white",
          "plot_bgcolor": "#E5ECF6",
          "polar": {
           "angularaxis": {
            "gridcolor": "white",
            "linecolor": "white",
            "ticks": ""
           },
           "bgcolor": "#E5ECF6",
           "radialaxis": {
            "gridcolor": "white",
            "linecolor": "white",
            "ticks": ""
           }
          },
          "scene": {
           "xaxis": {
            "backgroundcolor": "#E5ECF6",
            "gridcolor": "white",
            "gridwidth": 2,
            "linecolor": "white",
            "showbackground": true,
            "ticks": "",
            "zerolinecolor": "white"
           },
           "yaxis": {
            "backgroundcolor": "#E5ECF6",
            "gridcolor": "white",
            "gridwidth": 2,
            "linecolor": "white",
            "showbackground": true,
            "ticks": "",
            "zerolinecolor": "white"
           },
           "zaxis": {
            "backgroundcolor": "#E5ECF6",
            "gridcolor": "white",
            "gridwidth": 2,
            "linecolor": "white",
            "showbackground": true,
            "ticks": "",
            "zerolinecolor": "white"
           }
          },
          "shapedefaults": {
           "line": {
            "color": "#2a3f5f"
           }
          },
          "ternary": {
           "aaxis": {
            "gridcolor": "white",
            "linecolor": "white",
            "ticks": ""
           },
           "baxis": {
            "gridcolor": "white",
            "linecolor": "white",
            "ticks": ""
           },
           "bgcolor": "#E5ECF6",
           "caxis": {
            "gridcolor": "white",
            "linecolor": "white",
            "ticks": ""
           }
          },
          "title": {
           "x": 0.05
          },
          "xaxis": {
           "automargin": true,
           "gridcolor": "white",
           "linecolor": "white",
           "ticks": "",
           "title": {
            "standoff": 15
           },
           "zerolinecolor": "white",
           "zerolinewidth": 2
          },
          "yaxis": {
           "automargin": true,
           "gridcolor": "white",
           "linecolor": "white",
           "ticks": "",
           "title": {
            "standoff": 15
           },
           "zerolinecolor": "white",
           "zerolinewidth": 2
          }
         }
        },
        "title": {
         "text": "2D Cluster PCA Plot"
        },
        "xaxis": {
         "anchor": "y",
         "domain": [
          0,
          1
         ],
         "title": {
          "text": "PCA1"
         }
        },
        "yaxis": {
         "anchor": "x",
         "domain": [
          0,
          1
         ],
         "title": {
          "text": "PCA2"
         }
        }
       }
      }
     },
     "metadata": {},
     "output_type": "display_data"
    }
   ],
   "source": [
    "birch = create_model('birch', num_clusters=4)\n",
    "assigned = assign_model(birch)\n",
    "plot_model(birch, plot='cluster')"
   ]
  },
  {
   "cell_type": "code",
   "execution_count": 16,
   "metadata": {},
   "outputs": [
    {
     "data": {
      "text/html": [],
      "text/plain": [
       "<IPython.core.display.HTML object>"
      ]
     },
     "metadata": {},
     "output_type": "display_data"
    },
    {
     "data": {
      "application/vnd.plotly.v1+json": {
       "config": {
        "plotlyServerURL": "https://plot.ly"
       },
       "data": [
        {
         "customdata": [
          [
           "M"
          ],
          [
           "M"
          ],
          [
           "M"
          ],
          [
           "F"
          ],
          [
           "F"
          ],
          [
           "M"
          ],
          [
           "M"
          ],
          [
           "M"
          ],
          [
           "F"
          ],
          [
           "M"
          ],
          [
           "F"
          ],
          [
           "M"
          ],
          [
           "M"
          ],
          [
           "F"
          ],
          [
           "M"
          ],
          [
           "F"
          ],
          [
           "F"
          ],
          [
           "F"
          ],
          [
           "M"
          ],
          [
           "M"
          ],
          [
           "F"
          ],
          [
           "M"
          ],
          [
           "F"
          ],
          [
           "M"
          ],
          [
           "M"
          ],
          [
           "F"
          ],
          [
           "F"
          ],
          [
           "F"
          ],
          [
           "M"
          ],
          [
           "M"
          ],
          [
           "F"
          ],
          [
           "F"
          ],
          [
           "M"
          ],
          [
           "M"
          ],
          [
           "M"
          ],
          [
           "F"
          ]
         ],
         "hovertemplate": "Cluster=Cluster 0<br>0=%{x}<br>1=%{y}<br>2=%{z}<br>Feature=%{customdata[0]}<extra></extra>",
         "legendgroup": "Cluster 0",
         "marker": {
          "color": "#636efa",
          "opacity": 0.7,
          "symbol": "circle"
         },
         "mode": "markers",
         "name": "Cluster 0",
         "scene": "scene",
         "showlegend": true,
         "type": "scatter3d",
         "x": [
          6.5777507,
          -35.713306,
          -58.285885,
          40.601818,
          72.37332,
          -44.098034,
          42.09014,
          120.92543,
          31.531006,
          115.16331,
          84.830696,
          -97.920135,
          4.83258,
          -3.2529533,
          -76.26639,
          72.735695,
          4.634393,
          -61.449352,
          -19.879791,
          26.360216,
          -85.20721,
          117.37575,
          -14.510645,
          -104.24894,
          -108.778404,
          -52.628258,
          -56.332863,
          -41.86178,
          -24.593468,
          -27.349335,
          55.503723,
          -115.95487,
          -84.44479,
          -108.143776,
          8.8882,
          -59.280365
         ],
         "y": [
          37.78714,
          11.616385,
          -11.001176,
          -99.43445,
          -14.296117,
          10.689898,
          104.96582,
          -31.464867,
          -47.56504,
          24.847275,
          79.08563,
          10.8839445,
          141.68916,
          -29.673292,
          88.369125,
          35.019936,
          5.631063,
          55.00221,
          -132.5685,
          22.996552,
          -78.857414,
          -1.3331063,
          -79.45937,
          -9.181409,
          -51.84684,
          -39.8593,
          -83.23178,
          -102.3019,
          32.760292,
          4.9868617,
          99.11187,
          23.743597,
          18.001404,
          -39.53333,
          -52.699604,
          -37.929306
         ],
         "z": [
          148.81616,
          60.632725,
          -101.96958,
          12.69152,
          -15.563584,
          123.88476,
          108.03583,
          -52.037117,
          -7.6913495,
          -28.930758,
          -60.18809,
          102.978546,
          61.393383,
          102.803375,
          -44.01035,
          53.364002,
          -137.85335,
          -98.24878,
          27.577702,
          -8.4284525,
          48.806652,
          29.138412,
          -4.6185284,
          50.43755,
          -81.4011,
          -30.692818,
          -76.69523,
          81.76972,
          255.9379,
          -60.567596,
          48.95455,
          -67.08041,
          -23.84346,
          -5.720513,
          -64.59009,
          99.62876
         ]
        },
        {
         "customdata": [
          [
           "F"
          ],
          [
           "M"
          ],
          [
           "M"
          ],
          [
           "F"
          ],
          [
           "F"
          ],
          [
           "M"
          ],
          [
           "F"
          ],
          [
           "M"
          ],
          [
           "F"
          ],
          [
           "F"
          ],
          [
           "M"
          ],
          [
           "F"
          ],
          [
           "M"
          ],
          [
           "F"
          ],
          [
           "F"
          ],
          [
           "M"
          ],
          [
           "M"
          ]
         ],
         "hovertemplate": "Cluster=Cluster 1<br>0=%{x}<br>1=%{y}<br>2=%{z}<br>Feature=%{customdata[0]}<extra></extra>",
         "legendgroup": "Cluster 1",
         "marker": {
          "color": "#EF553B",
          "opacity": 0.7,
          "symbol": "circle"
         },
         "mode": "markers",
         "name": "Cluster 1",
         "scene": "scene",
         "showlegend": true,
         "type": "scatter3d",
         "x": [
          -3.80009,
          29.193878,
          -65.98927,
          -85.90487,
          -28.03674,
          -11.044024,
          46.684307,
          43.246574,
          -10.207417,
          -70.778625,
          14.627502,
          41.745296,
          -132.40634,
          -16.202461,
          -49.92073,
          -56.611458,
          116.74677
         ],
         "y": [
          -54.35923,
          115.95504,
          107.63349,
          -101.94913,
          -56.88493,
          77.62352,
          18.071226,
          69.118965,
          67.06904,
          65.33176,
          35.311077,
          -99.59161,
          22.516623,
          139.54395,
          123.40812,
          -28.957882,
          12.969399
         ],
         "z": [
          53.621628,
          -42.17748,
          20.649662,
          -13.335729,
          -132.08154,
          33.854996,
          106.956085,
          -124.4359,
          94.47892,
          78.845436,
          48.86119,
          79.624176,
          12.58757,
          -5.4237704,
          92.48687,
          29.231714,
          104.41374
         ]
        },
        {
         "customdata": [
          [
           "M"
          ],
          [
           "F"
          ],
          [
           "M"
          ],
          [
           "M"
          ],
          [
           "F"
          ],
          [
           "M"
          ],
          [
           "M"
          ],
          [
           "F"
          ],
          [
           "F"
          ],
          [
           "F"
          ],
          [
           "F"
          ],
          [
           "F"
          ],
          [
           "F"
          ],
          [
           "F"
          ],
          [
           "F"
          ],
          [
           "F"
          ],
          [
           "M"
          ],
          [
           "F"
          ],
          [
           "F"
          ]
         ],
         "hovertemplate": "Cluster=Cluster 2<br>0=%{x}<br>1=%{y}<br>2=%{z}<br>Feature=%{customdata[0]}<extra></extra>",
         "legendgroup": "Cluster 2",
         "marker": {
          "color": "#00cc96",
          "opacity": 0.7,
          "symbol": "circle"
         },
         "mode": "markers",
         "name": "Cluster 2",
         "scene": "scene",
         "showlegend": true,
         "type": "scatter3d",
         "x": [
          -44.83735,
          58.231163,
          104.658615,
          -8.369375,
          69.28139,
          44.195305,
          104.05,
          6.9258018,
          95.371315,
          90.05566,
          -13.227654,
          38.714935,
          36.518173,
          -120.21191,
          -7.254239,
          73.95082,
          64.35478,
          51.446033,
          128.49301
         ],
         "y": [
          40.43821,
          -41.94842,
          -59.66911,
          65.50201,
          -70.4196,
          -0.30003047,
          -78.343285,
          50.60388,
          31.245523,
          -26.14158,
          -14.17412,
          -129.0607,
          -85.16608,
          79.15554,
          108.85009,
          119.778015,
          62.902374,
          -23.763239,
          87.44853
         ],
         "z": [
          6.265227,
          118.716736,
          69.70171,
          -37.94568,
          -46.78468,
          -70.33002,
          -3.7337945,
          -76.84869,
          -89.56292,
          -115.32464,
          -3.80971,
          -54.661285,
          -116.3722,
          25.021267,
          -90.58267,
          -7.551653,
          -2.0751915,
          46.414516,
          7.981158
         ]
        },
        {
         "customdata": [
          [
           "M"
          ]
         ],
         "hovertemplate": "Cluster=Cluster 3<br>0=%{x}<br>1=%{y}<br>2=%{z}<br>Feature=%{customdata[0]}<extra></extra>",
         "legendgroup": "Cluster 3",
         "marker": {
          "color": "#ab63fa",
          "opacity": 0.7,
          "symbol": "circle"
         },
         "mode": "markers",
         "name": "Cluster 3",
         "scene": "scene",
         "showlegend": true,
         "type": "scatter3d",
         "x": [
          -12.191696
         ],
         "y": [
          -136.6159
         ],
         "z": [
          -49.597355
         ]
        }
       ],
       "layout": {
        "height": 800,
        "legend": {
         "title": {
          "text": "Cluster"
         },
         "tracegroupgap": 0
        },
        "scene": {
         "domain": {
          "x": [
           0,
           1
          ],
          "y": [
           0,
           1
          ]
         },
         "xaxis": {
          "title": {
           "text": "0"
          }
         },
         "yaxis": {
          "title": {
           "text": "1"
          }
         },
         "zaxis": {
          "title": {
           "text": "2"
          }
         }
        },
        "template": {
         "data": {
          "bar": [
           {
            "error_x": {
             "color": "#2a3f5f"
            },
            "error_y": {
             "color": "#2a3f5f"
            },
            "marker": {
             "line": {
              "color": "#E5ECF6",
              "width": 0.5
             },
             "pattern": {
              "fillmode": "overlay",
              "size": 10,
              "solidity": 0.2
             }
            },
            "type": "bar"
           }
          ],
          "barpolar": [
           {
            "marker": {
             "line": {
              "color": "#E5ECF6",
              "width": 0.5
             },
             "pattern": {
              "fillmode": "overlay",
              "size": 10,
              "solidity": 0.2
             }
            },
            "type": "barpolar"
           }
          ],
          "carpet": [
           {
            "aaxis": {
             "endlinecolor": "#2a3f5f",
             "gridcolor": "white",
             "linecolor": "white",
             "minorgridcolor": "white",
             "startlinecolor": "#2a3f5f"
            },
            "baxis": {
             "endlinecolor": "#2a3f5f",
             "gridcolor": "white",
             "linecolor": "white",
             "minorgridcolor": "white",
             "startlinecolor": "#2a3f5f"
            },
            "type": "carpet"
           }
          ],
          "choropleth": [
           {
            "colorbar": {
             "outlinewidth": 0,
             "ticks": ""
            },
            "type": "choropleth"
           }
          ],
          "contour": [
           {
            "colorbar": {
             "outlinewidth": 0,
             "ticks": ""
            },
            "colorscale": [
             [
              0,
              "#0d0887"
             ],
             [
              0.1111111111111111,
              "#46039f"
             ],
             [
              0.2222222222222222,
              "#7201a8"
             ],
             [
              0.3333333333333333,
              "#9c179e"
             ],
             [
              0.4444444444444444,
              "#bd3786"
             ],
             [
              0.5555555555555556,
              "#d8576b"
             ],
             [
              0.6666666666666666,
              "#ed7953"
             ],
             [
              0.7777777777777778,
              "#fb9f3a"
             ],
             [
              0.8888888888888888,
              "#fdca26"
             ],
             [
              1,
              "#f0f921"
             ]
            ],
            "type": "contour"
           }
          ],
          "contourcarpet": [
           {
            "colorbar": {
             "outlinewidth": 0,
             "ticks": ""
            },
            "type": "contourcarpet"
           }
          ],
          "heatmap": [
           {
            "colorbar": {
             "outlinewidth": 0,
             "ticks": ""
            },
            "colorscale": [
             [
              0,
              "#0d0887"
             ],
             [
              0.1111111111111111,
              "#46039f"
             ],
             [
              0.2222222222222222,
              "#7201a8"
             ],
             [
              0.3333333333333333,
              "#9c179e"
             ],
             [
              0.4444444444444444,
              "#bd3786"
             ],
             [
              0.5555555555555556,
              "#d8576b"
             ],
             [
              0.6666666666666666,
              "#ed7953"
             ],
             [
              0.7777777777777778,
              "#fb9f3a"
             ],
             [
              0.8888888888888888,
              "#fdca26"
             ],
             [
              1,
              "#f0f921"
             ]
            ],
            "type": "heatmap"
           }
          ],
          "heatmapgl": [
           {
            "colorbar": {
             "outlinewidth": 0,
             "ticks": ""
            },
            "colorscale": [
             [
              0,
              "#0d0887"
             ],
             [
              0.1111111111111111,
              "#46039f"
             ],
             [
              0.2222222222222222,
              "#7201a8"
             ],
             [
              0.3333333333333333,
              "#9c179e"
             ],
             [
              0.4444444444444444,
              "#bd3786"
             ],
             [
              0.5555555555555556,
              "#d8576b"
             ],
             [
              0.6666666666666666,
              "#ed7953"
             ],
             [
              0.7777777777777778,
              "#fb9f3a"
             ],
             [
              0.8888888888888888,
              "#fdca26"
             ],
             [
              1,
              "#f0f921"
             ]
            ],
            "type": "heatmapgl"
           }
          ],
          "histogram": [
           {
            "marker": {
             "pattern": {
              "fillmode": "overlay",
              "size": 10,
              "solidity": 0.2
             }
            },
            "type": "histogram"
           }
          ],
          "histogram2d": [
           {
            "colorbar": {
             "outlinewidth": 0,
             "ticks": ""
            },
            "colorscale": [
             [
              0,
              "#0d0887"
             ],
             [
              0.1111111111111111,
              "#46039f"
             ],
             [
              0.2222222222222222,
              "#7201a8"
             ],
             [
              0.3333333333333333,
              "#9c179e"
             ],
             [
              0.4444444444444444,
              "#bd3786"
             ],
             [
              0.5555555555555556,
              "#d8576b"
             ],
             [
              0.6666666666666666,
              "#ed7953"
             ],
             [
              0.7777777777777778,
              "#fb9f3a"
             ],
             [
              0.8888888888888888,
              "#fdca26"
             ],
             [
              1,
              "#f0f921"
             ]
            ],
            "type": "histogram2d"
           }
          ],
          "histogram2dcontour": [
           {
            "colorbar": {
             "outlinewidth": 0,
             "ticks": ""
            },
            "colorscale": [
             [
              0,
              "#0d0887"
             ],
             [
              0.1111111111111111,
              "#46039f"
             ],
             [
              0.2222222222222222,
              "#7201a8"
             ],
             [
              0.3333333333333333,
              "#9c179e"
             ],
             [
              0.4444444444444444,
              "#bd3786"
             ],
             [
              0.5555555555555556,
              "#d8576b"
             ],
             [
              0.6666666666666666,
              "#ed7953"
             ],
             [
              0.7777777777777778,
              "#fb9f3a"
             ],
             [
              0.8888888888888888,
              "#fdca26"
             ],
             [
              1,
              "#f0f921"
             ]
            ],
            "type": "histogram2dcontour"
           }
          ],
          "mesh3d": [
           {
            "colorbar": {
             "outlinewidth": 0,
             "ticks": ""
            },
            "type": "mesh3d"
           }
          ],
          "parcoords": [
           {
            "line": {
             "colorbar": {
              "outlinewidth": 0,
              "ticks": ""
             }
            },
            "type": "parcoords"
           }
          ],
          "pie": [
           {
            "automargin": true,
            "type": "pie"
           }
          ],
          "scatter": [
           {
            "fillpattern": {
             "fillmode": "overlay",
             "size": 10,
             "solidity": 0.2
            },
            "type": "scatter"
           }
          ],
          "scatter3d": [
           {
            "line": {
             "colorbar": {
              "outlinewidth": 0,
              "ticks": ""
             }
            },
            "marker": {
             "colorbar": {
              "outlinewidth": 0,
              "ticks": ""
             }
            },
            "type": "scatter3d"
           }
          ],
          "scattercarpet": [
           {
            "marker": {
             "colorbar": {
              "outlinewidth": 0,
              "ticks": ""
             }
            },
            "type": "scattercarpet"
           }
          ],
          "scattergeo": [
           {
            "marker": {
             "colorbar": {
              "outlinewidth": 0,
              "ticks": ""
             }
            },
            "type": "scattergeo"
           }
          ],
          "scattergl": [
           {
            "marker": {
             "colorbar": {
              "outlinewidth": 0,
              "ticks": ""
             }
            },
            "type": "scattergl"
           }
          ],
          "scattermapbox": [
           {
            "marker": {
             "colorbar": {
              "outlinewidth": 0,
              "ticks": ""
             }
            },
            "type": "scattermapbox"
           }
          ],
          "scatterpolar": [
           {
            "marker": {
             "colorbar": {
              "outlinewidth": 0,
              "ticks": ""
             }
            },
            "type": "scatterpolar"
           }
          ],
          "scatterpolargl": [
           {
            "marker": {
             "colorbar": {
              "outlinewidth": 0,
              "ticks": ""
             }
            },
            "type": "scatterpolargl"
           }
          ],
          "scatterternary": [
           {
            "marker": {
             "colorbar": {
              "outlinewidth": 0,
              "ticks": ""
             }
            },
            "type": "scatterternary"
           }
          ],
          "surface": [
           {
            "colorbar": {
             "outlinewidth": 0,
             "ticks": ""
            },
            "colorscale": [
             [
              0,
              "#0d0887"
             ],
             [
              0.1111111111111111,
              "#46039f"
             ],
             [
              0.2222222222222222,
              "#7201a8"
             ],
             [
              0.3333333333333333,
              "#9c179e"
             ],
             [
              0.4444444444444444,
              "#bd3786"
             ],
             [
              0.5555555555555556,
              "#d8576b"
             ],
             [
              0.6666666666666666,
              "#ed7953"
             ],
             [
              0.7777777777777778,
              "#fb9f3a"
             ],
             [
              0.8888888888888888,
              "#fdca26"
             ],
             [
              1,
              "#f0f921"
             ]
            ],
            "type": "surface"
           }
          ],
          "table": [
           {
            "cells": {
             "fill": {
              "color": "#EBF0F8"
             },
             "line": {
              "color": "white"
             }
            },
            "header": {
             "fill": {
              "color": "#C8D4E3"
             },
             "line": {
              "color": "white"
             }
            },
            "type": "table"
           }
          ]
         },
         "layout": {
          "annotationdefaults": {
           "arrowcolor": "#2a3f5f",
           "arrowhead": 0,
           "arrowwidth": 1
          },
          "autotypenumbers": "strict",
          "coloraxis": {
           "colorbar": {
            "outlinewidth": 0,
            "ticks": ""
           }
          },
          "colorscale": {
           "diverging": [
            [
             0,
             "#8e0152"
            ],
            [
             0.1,
             "#c51b7d"
            ],
            [
             0.2,
             "#de77ae"
            ],
            [
             0.3,
             "#f1b6da"
            ],
            [
             0.4,
             "#fde0ef"
            ],
            [
             0.5,
             "#f7f7f7"
            ],
            [
             0.6,
             "#e6f5d0"
            ],
            [
             0.7,
             "#b8e186"
            ],
            [
             0.8,
             "#7fbc41"
            ],
            [
             0.9,
             "#4d9221"
            ],
            [
             1,
             "#276419"
            ]
           ],
           "sequential": [
            [
             0,
             "#0d0887"
            ],
            [
             0.1111111111111111,
             "#46039f"
            ],
            [
             0.2222222222222222,
             "#7201a8"
            ],
            [
             0.3333333333333333,
             "#9c179e"
            ],
            [
             0.4444444444444444,
             "#bd3786"
            ],
            [
             0.5555555555555556,
             "#d8576b"
            ],
            [
             0.6666666666666666,
             "#ed7953"
            ],
            [
             0.7777777777777778,
             "#fb9f3a"
            ],
            [
             0.8888888888888888,
             "#fdca26"
            ],
            [
             1,
             "#f0f921"
            ]
           ],
           "sequentialminus": [
            [
             0,
             "#0d0887"
            ],
            [
             0.1111111111111111,
             "#46039f"
            ],
            [
             0.2222222222222222,
             "#7201a8"
            ],
            [
             0.3333333333333333,
             "#9c179e"
            ],
            [
             0.4444444444444444,
             "#bd3786"
            ],
            [
             0.5555555555555556,
             "#d8576b"
            ],
            [
             0.6666666666666666,
             "#ed7953"
            ],
            [
             0.7777777777777778,
             "#fb9f3a"
            ],
            [
             0.8888888888888888,
             "#fdca26"
            ],
            [
             1,
             "#f0f921"
            ]
           ]
          },
          "colorway": [
           "#636efa",
           "#EF553B",
           "#00cc96",
           "#ab63fa",
           "#FFA15A",
           "#19d3f3",
           "#FF6692",
           "#B6E880",
           "#FF97FF",
           "#FECB52"
          ],
          "font": {
           "color": "#2a3f5f"
          },
          "geo": {
           "bgcolor": "white",
           "lakecolor": "white",
           "landcolor": "#E5ECF6",
           "showlakes": true,
           "showland": true,
           "subunitcolor": "white"
          },
          "hoverlabel": {
           "align": "left"
          },
          "hovermode": "closest",
          "mapbox": {
           "style": "light"
          },
          "paper_bgcolor": "white",
          "plot_bgcolor": "#E5ECF6",
          "polar": {
           "angularaxis": {
            "gridcolor": "white",
            "linecolor": "white",
            "ticks": ""
           },
           "bgcolor": "#E5ECF6",
           "radialaxis": {
            "gridcolor": "white",
            "linecolor": "white",
            "ticks": ""
           }
          },
          "scene": {
           "xaxis": {
            "backgroundcolor": "#E5ECF6",
            "gridcolor": "white",
            "gridwidth": 2,
            "linecolor": "white",
            "showbackground": true,
            "ticks": "",
            "zerolinecolor": "white"
           },
           "yaxis": {
            "backgroundcolor": "#E5ECF6",
            "gridcolor": "white",
            "gridwidth": 2,
            "linecolor": "white",
            "showbackground": true,
            "ticks": "",
            "zerolinecolor": "white"
           },
           "zaxis": {
            "backgroundcolor": "#E5ECF6",
            "gridcolor": "white",
            "gridwidth": 2,
            "linecolor": "white",
            "showbackground": true,
            "ticks": "",
            "zerolinecolor": "white"
           }
          },
          "shapedefaults": {
           "line": {
            "color": "#2a3f5f"
           }
          },
          "ternary": {
           "aaxis": {
            "gridcolor": "white",
            "linecolor": "white",
            "ticks": ""
           },
           "baxis": {
            "gridcolor": "white",
            "linecolor": "white",
            "ticks": ""
           },
           "bgcolor": "#E5ECF6",
           "caxis": {
            "gridcolor": "white",
            "linecolor": "white",
            "ticks": ""
           }
          },
          "title": {
           "x": 0.05
          },
          "xaxis": {
           "automargin": true,
           "gridcolor": "white",
           "linecolor": "white",
           "ticks": "",
           "title": {
            "standoff": 15
           },
           "zerolinecolor": "white",
           "zerolinewidth": 2
          },
          "yaxis": {
           "automargin": true,
           "gridcolor": "white",
           "linecolor": "white",
           "ticks": "",
           "title": {
            "standoff": 15
           },
           "zerolinecolor": "white",
           "zerolinewidth": 2
          }
         }
        },
        "title": {
         "text": "3d TSNE Plot for Clusters"
        },
        "width": 900
       }
      }
     },
     "metadata": {},
     "output_type": "display_data"
    }
   ],
   "source": [
    "plot_model(birch,plot='tsne')"
   ]
  }
 ],
 "metadata": {
  "kernelspec": {
   "display_name": "Python 3",
   "language": "python",
   "name": "python3"
  },
  "language_info": {
   "codemirror_mode": {
    "name": "ipython",
    "version": 3
   },
   "file_extension": ".py",
   "mimetype": "text/x-python",
   "name": "python",
   "nbconvert_exporter": "python",
   "pygments_lexer": "ipython3",
   "version": "3.11.5"
  }
 },
 "nbformat": 4,
 "nbformat_minor": 2
}
